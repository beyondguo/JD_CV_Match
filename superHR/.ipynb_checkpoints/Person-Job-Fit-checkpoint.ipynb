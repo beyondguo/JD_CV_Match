{
 "cells": [
  {
   "cell_type": "markdown",
   "metadata": {},
   "source": [
    "# 人岗匹配系统\n",
    "\n",
    "## 输入：\n",
    "- JD和CV各自的文件路径\n",
    "- 各个tag的权重\n",
    "\n",
    "## 输出：\n",
    "- JD和CV各自提取的实体；\n",
    "- 各个CV和JD的匹配程度，并排序。"
   ]
  },
  {
   "cell_type": "code",
   "execution_count": 6,
   "metadata": {},
   "outputs": [],
   "source": [
    "import warnings\n",
    "warnings.filterwarnings('ignore')"
   ]
  },
  {
   "cell_type": "code",
   "execution_count": 1,
   "metadata": {},
   "outputs": [
    {
     "name": "stderr",
     "output_type": "stream",
     "text": [
      "E:\\learningsoft\\anadonda\\lib\\site-packages\\h5py\\__init__.py:34: FutureWarning: Conversion of the second argument of issubdtype from `float` to `np.floating` is deprecated. In future, it will be treated as `np.float64 == np.dtype(float).type`.\n",
      "  from ._conv import register_converters as _register_converters\n"
     ]
    },
    {
     "name": "stdout",
     "output_type": "stream",
     "text": [
      "importing match module...............\n"
     ]
    },
    {
     "name": "stderr",
     "output_type": "stream",
     "text": [
      "E:\\learningsoft\\anadonda\\lib\\site-packages\\gensim\\utils.py:1197: UserWarning: detected Windows; aliasing chunkize to chunkize_serial\n",
      "  warnings.warn(\"detected Windows; aliasing chunkize to chunkize_serial\")\n"
     ]
    }
   ],
   "source": [
    "import Entity\n",
    "import match\n",
    "from entity_V1 import get_entity\n",
    "from match import AvgWvSim,FocusedAvgWvSim\n",
    "import os\n",
    "import pandas as pd"
   ]
  },
  {
   "cell_type": "code",
   "execution_count": 2,
   "metadata": {},
   "outputs": [
    {
     "name": "stderr",
     "output_type": "stream",
     "text": [
      "E:\\learningsoft\\anadonda\\lib\\site-packages\\tensorflow\\python\\ops\\gradients_impl.py:112: UserWarning: Converting sparse IndexedSlices to a dense Tensor of unknown shape. This may consume a large amount of memory.\n",
      "  \"Converting sparse IndexedSlices to a dense Tensor of unknown shape. \"\n"
     ]
    },
    {
     "name": "stdout",
     "output_type": "stream",
     "text": [
      "INFO:tensorflow:Restoring parameters from ./ckpt\\ner.ckpt\n"
     ]
    },
    {
     "name": "stderr",
     "output_type": "stream",
     "text": [
      "Building prefix dict from the default dictionary ...\n",
      "Loading model from cache C:\\Users\\x1c\\AppData\\Local\\Temp\\jieba.cache\n"
     ]
    },
    {
     "name": "stdout",
     "output_type": "stream",
     "text": [
      "错误文件：hr1.txt\n",
      "错误信息： 'gbk' codec can't decode byte 0xad in position 63: illegal multibyte sequence\n"
     ]
    },
    {
     "name": "stderr",
     "output_type": "stream",
     "text": [
      "Loading model cost 1.217 seconds.\n",
      "Prefix dict has been built succesfully.\n"
     ]
    },
    {
     "name": "stdout",
     "output_type": "stream",
     "text": [
      "2\n"
     ]
    }
   ],
   "source": [
    "JDs_path =  '测试样本/JDs'\n",
    "JDs_words = get_entity(JDs_path)\n",
    "print(len(JDs_words))"
   ]
  },
  {
   "cell_type": "code",
   "execution_count": 4,
   "metadata": {},
   "outputs": [
    {
     "name": "stdout",
     "output_type": "stream",
     "text": [
      "jd_name: hr2.txt\n"
     ]
    },
    {
     "data": {
      "text/plain": [
       "{'专业': ['人力资源专业', '管理类', '工商管理'],\n",
       " '学历': ['本科'],\n",
       " '年限': [],\n",
       " '技能': ['文笔表达能力',\n",
       "  '拓展活动',\n",
       "  '语言表达能力',\n",
       "  '线上学习课程',\n",
       "  'OFFIce软件',\n",
       "  '报道撰写及系统',\n",
       "  '人力资源',\n",
       "  '地区后备人员的台账维护',\n",
       "  '移动课程',\n",
       "  '设计审美能力',\n",
       "  '培训活动',\n",
       "  '组织地区管理干部'],\n",
       " '职能': [],\n",
       " '行业': []}"
      ]
     },
     "execution_count": 4,
     "metadata": {},
     "output_type": "execute_result"
    }
   ],
   "source": [
    "jd = JDs_words[0]\n",
    "jd_name = jd['filename']\n",
    "jd_entity = jd['entity']  \n",
    "print('jd_name:',jd_name)\n",
    "jd_entity"
   ]
  },
  {
   "cell_type": "code",
   "execution_count": 5,
   "metadata": {},
   "outputs": [
    {
     "name": "stderr",
     "output_type": "stream",
     "text": [
      "E:\\learningsoft\\anadonda\\lib\\site-packages\\tensorflow\\python\\ops\\gradients_impl.py:112: UserWarning: Converting sparse IndexedSlices to a dense Tensor of unknown shape. This may consume a large amount of memory.\n",
      "  \"Converting sparse IndexedSlices to a dense Tensor of unknown shape. \"\n"
     ]
    },
    {
     "name": "stdout",
     "output_type": "stream",
     "text": [
      "INFO:tensorflow:Restoring parameters from ./ckpt\\ner.ckpt\n",
      "--------\n",
      "\n",
      "【cv_name】: hr_cv_1.txt\n",
      "技能 : ['员工关系', '完善人事制度 9', '个税申报 6', '招聘面试 4', '梳理业务流程编写SOP', 'HRIS', '员Onsite', '维护员工数据 10', '人事信息系统', '福利采购', ' 制定档户操作规则', '人事服务方案', '档案管理', 'Onsite', '招聘', '管理 12', '(SSC', '企业文化', '入职管理', '项目HR', '新人培训']\n",
      "学历 : []\n",
      "专业 : ['人力资源']\n",
      "行业 : []\n",
      "职能 : []\n",
      "年限 : []\n",
      "\n",
      "\n",
      "\n",
      "\n",
      "@ Score: 0.4022258936049089\n",
      "--------\n",
      "\n",
      "【cv_name】: hr_cv_2.txt\n",
      "技能 : ['人事信息系统', 'HRIS', '第一小学']\n",
      "学历 : []\n",
      "专业 : []\n",
      "行业 : []\n",
      "职能 : []\n",
      "年限 : []\n",
      "\n",
      "@ Score: 0.22209826577989547\n",
      "--------\n",
      "\n",
      "【cv_name】: hr_cv_3.txt\n",
      "技能 : ['员工关系', '投诉处理', '人力资源', '企业文化/工会', 'HRIS)管理', '人事信息系统', '薪酬福利']\n",
      "学历 : []\n",
      "专业 : []\n",
      "行业 : []\n",
      "职能 : []\n",
      "年限 : []\n",
      "\n",
      "@ Score: 0.2556919076679806\n",
      "--------\n",
      "\n",
      "【cv_name】: hr_cv_4.txt\n",
      "技能 : ['人力资源主管\\t人事', '集团人力资源', '力资源管理制度', '组织架构', '淘汰管理', '猎头', '营销中心', 'br>体系运营', '管理层管理', '搭建绩效管理体系', '招聘团队赋能', '相应管理能力', '决策层提供人力资源', '招聘费用管理', '网站', '风险控制', '控制人力资源', '招聘流程规范', '完善事业部管理流程', 'br>招聘', '数据分析', 'br', '招聘团队管理', '培训', '人力资源经理', '人力资源主管\\t', '技术平台', 'br>招聘管理', 'HRBP', '通过周报', '招聘', '多渠道管理', '50人;公司规模', 'offer', '获取招聘信息', 'KPI机制']\n",
      "学历 : []\n",
      "专业 : []\n",
      "行业 : ['互联网公司', '人力资源部\\t互联网', '互联网']\n",
      "职能 : ['人力资源主管']\n",
      "年限 : []\n",
      "\n",
      "\n",
      "@ Score: 0.2649699215255002\n",
      "--------\n",
      "\n",
      "【cv_name】: hr_cv_5.txt\n",
      "技能 : ['HRBP', '招收学员', '销售代表', '招聘', '人力资源部分板块', '招聘经理', 'br', '培训', '协调推广', '招商', '线上引流']\n",
      "学历 : []\n",
      "专业 : []\n",
      "行业 : []\n",
      "职能 : ['主管']\n",
      "年限 : []\n",
      "\n",
      "\n",
      "@ Score: 0.24822663931322692\n",
      "--------\n",
      "\n",
      "【cv_name】: hr_cv_6.txt\n",
      "技能 : ['人事信息系统', 'HRIS', '电信\\t人事助理', '销售人才']\n",
      "学历 : []\n",
      "专业 : []\n",
      "行业 : []\n",
      "职能 : []\n",
      "年限 : []\n",
      "\n",
      "@ Score: 0.2408452151922716\n",
      "\n",
      "==============各CV排序：==============\n"
     ]
    },
    {
     "data": {
      "text/html": [
       "<div>\n",
       "<style scoped>\n",
       "    .dataframe tbody tr th:only-of-type {\n",
       "        vertical-align: middle;\n",
       "    }\n",
       "\n",
       "    .dataframe tbody tr th {\n",
       "        vertical-align: top;\n",
       "    }\n",
       "\n",
       "    .dataframe thead th {\n",
       "        text-align: right;\n",
       "    }\n",
       "</style>\n",
       "<table border=\"1\" class=\"dataframe\">\n",
       "  <thead>\n",
       "    <tr style=\"text-align: right;\">\n",
       "      <th></th>\n",
       "      <th>cv_name</th>\n",
       "      <th>score</th>\n",
       "    </tr>\n",
       "  </thead>\n",
       "  <tbody>\n",
       "    <tr>\n",
       "      <th>0</th>\n",
       "      <td>hr_cv_1.txt</td>\n",
       "      <td>[[0.4022258936049089]]</td>\n",
       "    </tr>\n",
       "    <tr>\n",
       "      <th>3</th>\n",
       "      <td>hr_cv_4.txt</td>\n",
       "      <td>[[0.2649699215255002]]</td>\n",
       "    </tr>\n",
       "    <tr>\n",
       "      <th>2</th>\n",
       "      <td>hr_cv_3.txt</td>\n",
       "      <td>[[0.2556919076679806]]</td>\n",
       "    </tr>\n",
       "    <tr>\n",
       "      <th>4</th>\n",
       "      <td>hr_cv_5.txt</td>\n",
       "      <td>[[0.24822663931322692]]</td>\n",
       "    </tr>\n",
       "    <tr>\n",
       "      <th>5</th>\n",
       "      <td>hr_cv_6.txt</td>\n",
       "      <td>[[0.2408452151922716]]</td>\n",
       "    </tr>\n",
       "    <tr>\n",
       "      <th>1</th>\n",
       "      <td>hr_cv_2.txt</td>\n",
       "      <td>[[0.22209826577989547]]</td>\n",
       "    </tr>\n",
       "  </tbody>\n",
       "</table>\n",
       "</div>"
      ],
      "text/plain": [
       "       cv_name                    score\n",
       "0  hr_cv_1.txt   [[0.4022258936049089]]\n",
       "3  hr_cv_4.txt   [[0.2649699215255002]]\n",
       "2  hr_cv_3.txt   [[0.2556919076679806]]\n",
       "4  hr_cv_5.txt  [[0.24822663931322692]]\n",
       "5  hr_cv_6.txt   [[0.2408452151922716]]\n",
       "1  hr_cv_2.txt  [[0.22209826577989547]]"
      ]
     },
     "execution_count": 5,
     "metadata": {},
     "output_type": "execute_result"
    }
   ],
   "source": [
    "CVs_path =  '测试样本/CVs'\n",
    "CVs_words = get_entity(CVs_path)\n",
    "match_result = {}\n",
    "match_result['cv_name'] = []\n",
    "match_result['cv_entity'] = []\n",
    "match_result['score'] = []\n",
    "tag_weights = {'技能':0.3,'学历':0.1,'专业':0.2,'行业':0.2,'职能':0.1,'年限':0.1}\n",
    "for cv in CVs_words:\n",
    "    cv_name = cv['filename']\n",
    "    cv_entity = cv['entity']\n",
    "    print('--------')\n",
    "    print('\\n【cv_name】:',cv_name)\n",
    "    for each in cv_entity:\n",
    "        print(each,':',cv_entity[each])\n",
    "    score = FocusedAvgWvSim(jd_entity, cv_entity,tag_weights=tag_weights)\n",
    "    print('@ Score:',score[0][0])\n",
    "\n",
    "    match_result['cv_name'].append(cv_name)\n",
    "    match_result['cv_entity'].append(cv_entity)\n",
    "    match_result['score'].append(score)\n",
    "df = pd.DataFrame(match_result)\n",
    "show_df = pd.concat([df['cv_name'],df['score']],axis=1)\n",
    "print('\\n==============各CV排序：==============')\n",
    "(show_df.sort_values(by='score',ascending=False))\n",
    "# print(df.sort_values(by='score',ascending=False))"
   ]
  },
  {
   "cell_type": "code",
   "execution_count": 7,
   "metadata": {},
   "outputs": [
    {
     "name": "stdout",
     "output_type": "stream",
     "text": [
      "1   80\n",
      "2   94\n",
      "3   13\n",
      "4   24\n",
      "5   44\n",
      "-----------------5\n",
      "6   6\n",
      "7   73\n",
      "8   53\n",
      "9   12\n",
      "10   87\n",
      "-----------------10\n",
      "11   20\n",
      "12   83\n",
      "13   97\n",
      "14   85\n",
      "15   30\n",
      "16   38\n",
      "17   7\n",
      "18   86\n",
      "19   48\n",
      "20   52\n",
      "-----------------20\n",
      "21   47\n",
      "22   55\n",
      "23   31\n",
      "24   92\n",
      "25   27\n",
      "26   78\n",
      "27   49\n",
      "28   9\n",
      "29   75\n",
      "30   56\n",
      "31   67\n",
      "32   60\n",
      "33   4\n",
      "34   15\n",
      "35   91\n",
      "36   93\n",
      "37   45\n",
      "38   11\n",
      "39   58\n",
      "40   37\n",
      "41   40\n",
      "42   59\n",
      "43   1\n",
      "44   69\n",
      "45   17\n",
      "46   14\n",
      "47   77\n",
      "48   29\n",
      "49   81\n",
      "50   22\n",
      "51   62\n",
      "52   36\n",
      "53   50\n",
      "54   95\n",
      "55   28\n",
      "56   2\n",
      "57   96\n",
      "58   90\n",
      "59   35\n",
      "60   61\n",
      "61   19\n",
      "62   79\n",
      "63   65\n",
      "64   63\n",
      "65   21\n",
      "66   34\n",
      "67   43\n",
      "68   5\n",
      "69   41\n",
      "70   51\n",
      "71   98\n",
      "72   76\n",
      "73   46\n",
      "74   8\n",
      "75   16\n",
      "76   32\n",
      "77   23\n",
      "78   3\n",
      "79   57\n",
      "80   88\n",
      "81   82\n",
      "82   54\n",
      "83   66\n",
      "84   71\n",
      "85   72\n",
      "86   10\n",
      "87   25\n",
      "88   84\n",
      "89   33\n",
      "90   18\n",
      "91   42\n",
      "92   74\n",
      "93   70\n",
      "94   64\n",
      "95   68\n",
      "96   26\n",
      "97   39\n",
      "98   99\n",
      "99   89\n",
      "set()\n",
      "top5 score: 0.0\n",
      "{6}\n",
      "top10 score: 0.1\n",
      "{6, 7, 12, 13, 20}\n",
      "top20 score: 0.25\n"
     ]
    }
   ],
   "source": [
    "\"\"\"\n",
    "Test-bed\n",
    "\"\"\"\n",
    "import numpy as np\n",
    "def topn_score(l1,l2,n):\n",
    "    set1 = set(l1[:n])\n",
    "    set2 = set(l2[:n])\n",
    "    inter = set1.intersection(set2)\n",
    "    print(inter)\n",
    "    return len(inter)/n\n",
    "l1 = range(1,100)\n",
    "l2 = list(np.random.permutation(l1))\n",
    "\n",
    "r = 0\n",
    "for i,j in zip(l1,l2):\n",
    "    if r == 5:\n",
    "        print('-----------------5')\n",
    "    if r == 10:\n",
    "        print('-----------------10')\n",
    "    if r == 20:\n",
    "        print('-----------------20')\n",
    "    print(i,' ',j)\n",
    "    r += 1\n",
    "\n",
    "print('top5 score:',topn_score(l1,l2,5))\n",
    "print('top10 score:',topn_score(l1,l2,10))\n",
    "print('top20 score:',topn_score(l1,l2,20))"
   ]
  },
  {
   "cell_type": "code",
   "execution_count": null,
   "metadata": {},
   "outputs": [],
   "source": []
  }
 ],
 "metadata": {
  "kernelspec": {
   "display_name": "Python 3",
   "language": "python",
   "name": "python3"
  },
  "language_info": {
   "codemirror_mode": {
    "name": "ipython",
    "version": 3
   },
   "file_extension": ".py",
   "mimetype": "text/x-python",
   "name": "python",
   "nbconvert_exporter": "python",
   "pygments_lexer": "ipython3",
   "version": "3.6.3"
  }
 },
 "nbformat": 4,
 "nbformat_minor": 2
}
