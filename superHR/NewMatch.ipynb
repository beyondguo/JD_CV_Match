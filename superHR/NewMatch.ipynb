{
 "cells": [
  {
   "cell_type": "markdown",
   "metadata": {},
   "source": [
    "#### 实体标准化表\n",
    "<img src='images/标准化表1.jpg'></img>\n",
    "<img src='images/标准化表3.jpg'></img>"
   ]
  },
  {
   "cell_type": "markdown",
   "metadata": {},
   "source": [
    "## 1.定义各处理类型的函数"
   ]
  },
  {
   "cell_type": "code",
   "execution_count": 1,
   "metadata": {},
   "outputs": [
    {
     "name": "stderr",
     "output_type": "stream",
     "text": [
      "E:\\learningsoft\\anadonda\\lib\\site-packages\\gensim\\utils.py:1197: UserWarning: detected Windows; aliasing chunkize to chunkize_serial\n",
      "  warnings.warn(\"detected Windows; aliasing chunkize to chunkize_serial\")\n",
      "E:\\learningsoft\\anadonda\\lib\\site-packages\\ipykernel_launcher.py:8: DeprecationWarning: Call to deprecated `__getitem__` (Method will be removed in 4.0.0, use self.wv.__getitem__() instead).\n",
      "  \n"
     ]
    },
    {
     "data": {
      "text/plain": [
       "(250,)"
      ]
     },
     "execution_count": 1,
     "metadata": {},
     "output_type": "execute_result"
    }
   ],
   "source": [
    "from gensim.models import Word2Vec\n",
    "import numpy as np\n",
    "wvmodel = Word2Vec.load('F:/Jupyter/--NLP/big_things/models/wikibaikeWV250/wikibaikewv250')\n",
    "wvdim = 250\n",
    "import jieba\n",
    "from sklearn.metrics.pairwise import cosine_similarity\n",
    "vocab = wvmodel.wv.vocab\n",
    "wvmodel['哈哈'].shape"
   ]
  },
  {
   "cell_type": "code",
   "execution_count": 74,
   "metadata": {},
   "outputs": [
    {
     "name": "stdout",
     "output_type": "stream",
     "text": [
      "similarity_matrix:\n",
      " [[0.4310978  0.17273347 0.2793395  0.24811262]\n",
      " [0.08069427 0.24177119 0.15040708 0.07349762]\n",
      " [0.17280224 0.14655209 0.31007016 0.20673734]\n",
      " [0.4315029  0.11927645 0.19731879 0.5148311 ]]\n",
      "highlight_matrix:\n",
      " [[0.4310978  0.         0.2793395  0.24811262]\n",
      " [0.         0.24177119 0.         0.        ]\n",
      " [0.         0.         0.31007016 0.20673734]\n",
      " [0.4315029  0.         0.         0.5148311 ]]\n",
      "highlight_items: [0.4310978  0.         0.2793395  0.24811262 0.         0.24177119\n",
      " 0.         0.         0.         0.         0.31007016 0.20673734\n",
      " 0.4315029  0.         0.         0.5148311 ]\n",
      "Overall similarity: 0.23604654\n",
      "Highlight similarity: 0.33293282985687256\n"
     ]
    },
    {
     "name": "stderr",
     "output_type": "stream",
     "text": [
      "E:\\learningsoft\\anadonda\\lib\\site-packages\\ipykernel_launcher.py:12: DeprecationWarning: Call to deprecated `__getitem__` (Method will be removed in 4.0.0, use self.wv.__getitem__() instead).\n",
      "  if sys.path[0] == '':\n"
     ]
    },
    {
     "data": {
      "text/plain": [
       "0.33293282985687256"
      ]
     },
     "execution_count": 74,
     "metadata": {},
     "output_type": "execute_result"
    }
   ],
   "source": [
    "\"\"\"Process type : 1\n",
    "worlist_similarity\n",
    "1. 把实体列表中的每一个实体表示成一个向量\n",
    "2. 两两计算词向量相似度\n",
    "3. 设定阈值，高于阈值的就拿出来计算平均分\n",
    "4. 可将匹配矩阵导出用于可视化\n",
    "\"\"\"\n",
    "import copy\n",
    "def e2v(entity): # 给任何一个任意长度的词，返回一个定长的词向量\n",
    "    try:\n",
    "        if entity in vocab:\n",
    "            return wvmodel[entity]\n",
    "        else:\n",
    "            wv = np.zeros((wvdim,))\n",
    "            words = jieba.lcut(entity)\n",
    "            count = 0\n",
    "            for word in words:\n",
    "                if word in vocab:\n",
    "                    count += 1\n",
    "                    wv += wvmodel[word]\n",
    "            if count > 0:\n",
    "                return wv/count\n",
    "            else:\n",
    "                return np.zeros((wvdim,))\n",
    "    except Exception as e:\n",
    "        print('==error==:',e)\n",
    "        print('==error entity==:',entity)\n",
    "\n",
    "def wordList_similarity(entity_list1,entity_list2,threshold = 0.2): # 计算两个词列表的相似度\n",
    "    wv_list1 = [e2v(entity).reshape(1,wvdim) for entity in entity_list1]\n",
    "    wv_list2 = [e2v(entity).reshape(1,wvdim) for entity in entity_list2]\n",
    "    E1 = np.concatenate(wv_list1) # shape:(n,wvdim), n is the length of list\n",
    "    E2 = np.concatenate(wv_list2)\n",
    "    similarity_matrix = cosine_similarity(E1,E2)\n",
    "    highlight_matrix = copy.deepcopy(similarity_matrix)\n",
    "    def show_up(x):\n",
    "        x[x<threshold] = 0\n",
    "        return x\n",
    "    highlight_matrix = show_up(highlight_matrix)\n",
    "    print('similarity_matrix:\\n',similarity_matrix)\n",
    "    print('highlight_matrix:\\n',highlight_matrix)\n",
    "\n",
    "#     highlight_items = np.squeeze(highlight_matrix.reshape(1,-1))\n",
    "    highlight_items = highlight_matrix.reshape(1,-1)[0]\n",
    "    sumup = 0\n",
    "    count = 0\n",
    "    highlight_score = 0\n",
    "    print('highlight_items:',highlight_items)\n",
    "    for item in highlight_items:\n",
    "        if item>0:\n",
    "            sumup += item\n",
    "            count += 1\n",
    "    if count>0:\n",
    "        highlight_score = sumup/count\n",
    "    print('Overall similarity:',np.average(similarity_matrix))\n",
    "    print('Highlight similarity:',highlight_score)\n",
    "    return highlight_score\n",
    "\n",
    "wordList_similarity(['北京','是','中国','首都'],['巴黎','乃','法国','都城'])"
   ]
  },
  {
   "cell_type": "code",
   "execution_count": 98,
   "metadata": {},
   "outputs": [
    {
     "name": "stdout",
     "output_type": "stream",
     "text": [
      "['四年工作经验'] ['工作3.5年']\n",
      "jd num: 4.0 cv num: 3.5\n"
     ]
    },
    {
     "data": {
      "text/plain": [
       "0.3775406687981454"
      ]
     },
     "execution_count": 98,
     "metadata": {},
     "output_type": "execute_result"
    }
   ],
   "source": [
    "\"\"\"Process type : 2\n",
    "number_compare\n",
    "JD和CV的一些标签按照数值大小进行比较：\n",
    "1. 若CV的数字大于等于JD的要求，就匹配度为1；\n",
    "2. 若CV的数字小于JD的要求，则计算gap，按照某种函数映射到0~1内，然后用1减去该值，得到匹配度；\n",
    "3. 若JD的要求为空，则匹配度为1；\n",
    "4. 若JD又不为空，而CV为空，则匹配度为0；\n",
    "5. 此处可以设置硬卡控，则不满足要求直接匹配度为0；\n",
    "\"\"\"\n",
    "import math\n",
    "import re\n",
    "def sigmoid(x):\n",
    "    return 1/(1+pow(math.e,-x))\n",
    "\n",
    "chinese2num = {'一':1,'二':2,'两':2,'三':3,'四':4,'五':5,'六':6,'七':7,'八':8,'九':9,'十':10,\\\n",
    "              '十一':11,'十二':12,'十三':13,'十四':14,'十五':15}\n",
    "chineseNums = ''.join(list(chinese2num.keys()))\n",
    "def get_num(sentence):\n",
    "    s = str(sentence)\n",
    "    num_cn = re.findall(r\"([\"+chineseNums+\"]{1,2})\",s)\n",
    "#     num_ab = re.findall(r\"([0-9]{1,2})\",s)\n",
    "    num_ab = re.findall(r'([0-9]{1,}[.][0-9]*)',s)\n",
    "    if len(num_cn)>0:\n",
    "        num = chinese2num[num_cn[0]]\n",
    "    elif len(num_ab)>0:\n",
    "        num = num_ab[0]\n",
    "    else:\n",
    "        num = -1\n",
    "    return float(num)\n",
    "\n",
    "def number_compare_score(JD_entity_list,CV_entity_list,isHardRule = False):\n",
    "    print(JD_entity_list,CV_entity_list)\n",
    "    s1 = ''.join([str(x) for x in JD_entity_list])\n",
    "    s2 = ''.join([str(x) for x in CV_entity_list]) # 要先都转化成str，才能够使用join连起来。原list可能含有其他类型\n",
    "#     num1 = int(get_num(s1))\n",
    "#     num2 = int(get_num(s2))\n",
    "    num1 = get_num(s1)\n",
    "    num2 = get_num(s2)\n",
    "    print('jd num:',num1,'cv num:',num2)\n",
    "    if num1 == -1:\n",
    "        return 1\n",
    "    elif num2 == -1:\n",
    "        return 0\n",
    "    elif num1 <= num2:\n",
    "        return 1\n",
    "    elif isHardRule:\n",
    "        return 0\n",
    "    else:\n",
    "        return 1-sigmoid(abs(num1-num2))\n",
    "\n",
    "jd = ['四年工作经验']\n",
    "cv = ['工作3.5年']\n",
    "number_compare_score(jd,cv,isHardRule=False)"
   ]
  },
  {
   "cell_type": "code",
   "execution_count": 136,
   "metadata": {},
   "outputs": [],
   "source": [
    "\"\"\"Process type : 3\n",
    "level_compare\n",
    "\n",
    "\"\"\"\n",
    "xueli_level = {'小学':1,'初中':2,'高中':3,'大专':4,'本科':5,'硕士':6,'博士':7}\n",
    "def level_compare(JD_entity_list,CV_entity_list,tag):\n",
    "    if tag=='学历':\n",
    "        if len(JD_entity_list) == 0:\n",
    "            num1 = -1\n",
    "        else:\n",
    "            num1 = xueli_level[JD_entity_list[0]]\n",
    "        if len(CV_entity_list) == 0:\n",
    "            num2 = -1\n",
    "        else:\n",
    "            num2 = xueli_level[CV_entity_list[0]]\n",
    "        print('jd xueli:',num1,'cv xueli:',num2)\n",
    "        if num1 == -1:\n",
    "            return 1\n",
    "        elif num2 == -1:\n",
    "            return 0\n",
    "        elif num1 <= num2:\n",
    "            return 1\n",
    "        elif isHardRule:\n",
    "            return 0\n",
    "        else:\n",
    "            return 1-sigmoid(abs(num1-num2))\n",
    "    \n",
    "    elif tag=='学校':\n",
    "        return 1\n",
    "    else:\n",
    "        return 1  # ?????????????\n",
    "    return 1\n",
    "\n",
    "\"\"\"Process type : 4\n",
    "bool_compare\n",
    "\n",
    "\"\"\"\n",
    "def bool_compare(JD_entity_list,CV_entity_list):\n",
    "    set1 = set(JD_entity_list)\n",
    "    set2 = set(CV_entity_list)\n",
    "    inter = set1.intersection(set2)\n",
    "    if len(inter)>0:\n",
    "        return 1\n",
    "    else:\n",
    "        return 0"
   ]
  },
  {
   "cell_type": "code",
   "execution_count": null,
   "metadata": {},
   "outputs": [],
   "source": []
  },
  {
   "cell_type": "code",
   "execution_count": 137,
   "metadata": {},
   "outputs": [],
   "source": [
    "def matchScore(JD_entity_list,CV_entity_list,process_type,tag=None):\n",
    "    \"\"\"\n",
    "    参数:\n",
    "    JD_entity_list，CV_entity_list，要比较的两个实体列表\n",
    "    process_type, 可取1,2,3,4, 详见‘标准化表’\n",
    "    \"\"\"\n",
    "    assert isinstance(JD_entity_list,list)==True, '当前输入的JD_entity_list不是list类型！'\n",
    "    assert isinstance(CV_entity_list,list)==True, '当前输入的CV_entity_list不是list类型！'\n",
    "    \n",
    "    if len(JD_entity_list) == 0:\n",
    "        print('JD here is empty! Return socre 1.')\n",
    "        return 1\n",
    "    if len(CV_entity_list) == 0:\n",
    "        print('CV here is empty! Return score 0.')\n",
    "        return 0\n",
    "    \n",
    "    if int(process_type) == 1: # 文本相似度\n",
    "        print(\"Using wordList_similarity method.\")\n",
    "        return wordList_similarity(JD_entity_list,CV_entity_list,threshold=0.2)\n",
    "    \n",
    "    elif int(process_type) == 2: # 数值大小\n",
    "        print(\"Using number_compare_score method.\")\n",
    "        return number_compare_score(JD_entity_list,CV_entity_list,isHardRule=False)\n",
    "    \n",
    "    elif int(process_type) == 3: # 层次比较\n",
    "        print(\"Using level_compare method.\")\n",
    "        return level_compare(JD_entity_list,CV_entity_list,tag)\n",
    "    \n",
    "    elif int(process_type) == 4: # 布尔比较\n",
    "        print(\"Using bool_compare method.\")\n",
    "        return bool_compare(JD_entity_list,CV_entity_list)\n",
    "    \n",
    "    else:\n",
    "        print(\"Error: Wrong process_type! Must be 1,2,3,4! Your silly input type is:\",process_type)\n",
    "        return \"Error: Wrong process_type! Must be 1,2,3,4!\"\n",
    "    "
   ]
  },
  {
   "cell_type": "code",
   "execution_count": 89,
   "metadata": {},
   "outputs": [
    {
     "ename": "AssertionError",
     "evalue": "当前输入的JD_entity_list不是list类型！",
     "output_type": "error",
     "traceback": [
      "\u001b[1;31m---------------------------------------------------------------------------\u001b[0m",
      "\u001b[1;31mAssertionError\u001b[0m                            Traceback (most recent call last)",
      "\u001b[1;32m<ipython-input-89-e5c5baa12b7d>\u001b[0m in \u001b[0;36m<module>\u001b[1;34m()\u001b[0m\n\u001b[1;32m----> 1\u001b[1;33m \u001b[0mmatchScore\u001b[0m\u001b[1;33m(\u001b[0m\u001b[1;34m'asdf'\u001b[0m\u001b[1;33m,\u001b[0m\u001b[1;33m[\u001b[0m\u001b[1;34m'规划'\u001b[0m\u001b[1;33m,\u001b[0m\u001b[1;34m'物流'\u001b[0m\u001b[1;33m,\u001b[0m\u001b[1;34m'技术'\u001b[0m\u001b[1;33m]\u001b[0m\u001b[1;33m,\u001b[0m\u001b[1;36m1\u001b[0m\u001b[1;33m)\u001b[0m\u001b[1;33m\u001b[0m\u001b[0m\n\u001b[0m",
      "\u001b[1;32m<ipython-input-88-ccdfd12868eb>\u001b[0m in \u001b[0;36mmatchScore\u001b[1;34m(JD_entity_list, CV_entity_list, process_type)\u001b[0m\n\u001b[0;32m      5\u001b[0m     \u001b[0mprocess_type\u001b[0m\u001b[1;33m,\u001b[0m \u001b[0m可取1\u001b[0m\u001b[1;33m,\u001b[0m\u001b[1;36m2\u001b[0m\u001b[1;33m,\u001b[0m\u001b[1;36m3\u001b[0m\u001b[1;33m,\u001b[0m\u001b[1;36m4\u001b[0m\u001b[1;33m,\u001b[0m \u001b[0m详见\u001b[0m\u001b[0;31m‘\u001b[0m\u001b[0m标准化表\u001b[0m\u001b[0;31m’\u001b[0m\u001b[1;33m\u001b[0m\u001b[0m\n\u001b[0;32m      6\u001b[0m     \"\"\"\n\u001b[1;32m----> 7\u001b[1;33m     \u001b[1;32massert\u001b[0m \u001b[0misinstance\u001b[0m\u001b[1;33m(\u001b[0m\u001b[0mJD_entity_list\u001b[0m\u001b[1;33m,\u001b[0m\u001b[0mlist\u001b[0m\u001b[1;33m)\u001b[0m\u001b[1;33m==\u001b[0m\u001b[1;32mTrue\u001b[0m\u001b[1;33m,\u001b[0m \u001b[1;34m'当前输入的JD_entity_list不是list类型！'\u001b[0m\u001b[1;33m\u001b[0m\u001b[0m\n\u001b[0m\u001b[0;32m      8\u001b[0m     \u001b[1;32massert\u001b[0m \u001b[0misinstance\u001b[0m\u001b[1;33m(\u001b[0m\u001b[0mCV_entity_list\u001b[0m\u001b[1;33m,\u001b[0m\u001b[0mlist\u001b[0m\u001b[1;33m)\u001b[0m\u001b[1;33m==\u001b[0m\u001b[1;32mTrue\u001b[0m\u001b[1;33m,\u001b[0m \u001b[1;34m'当前输入的CV_entity_list不是list类型！'\u001b[0m\u001b[1;33m\u001b[0m\u001b[0m\n\u001b[0;32m      9\u001b[0m \u001b[1;33m\u001b[0m\u001b[0m\n",
      "\u001b[1;31mAssertionError\u001b[0m: 当前输入的JD_entity_list不是list类型！"
     ]
    }
   ],
   "source": [
    "matchScore('asdf',['规划','物流','技术'],1)"
   ]
  },
  {
   "cell_type": "markdown",
   "metadata": {},
   "source": [
    "## 针对不同的维度，设计对应的计算逻辑\n",
    "### 使用上面定义好的`matchScore`函数\n",
    "```\n",
    "matchScore(JD_entity_list, CV_entity_list, process_type)\n",
    "```"
   ]
  },
  {
   "cell_type": "code",
   "execution_count": 116,
   "metadata": {},
   "outputs": [
    {
     "name": "stdout",
     "output_type": "stream",
     "text": [
      "id\n",
      "教育\n",
      "经验\n",
      "技能\n",
      "基本信息\n",
      "其他标签\n",
      "---------\n",
      "id\n",
      "name\n",
      "教育\n",
      "经验\n",
      "技能\n",
      "基本信息\n",
      "其他标签\n"
     ]
    },
    {
     "data": {
      "text/plain": [
       "{'业务': ['1', []],\n",
       " '产品': ['1', []],\n",
       " '公司名': ['3', []],\n",
       " '年限': ['2', []],\n",
       " '所在城市': ['4', []],\n",
       " '职位': ['1', []],\n",
       " '行业': ['1', []]}"
      ]
     },
     "execution_count": 116,
     "metadata": {},
     "output_type": "execute_result"
    }
   ],
   "source": [
    "import pandas as pd\n",
    "import json\n",
    "with open('data/cv.json',encoding='utf-8') as f:\n",
    "    cv_words = json.loads(f.read())\n",
    "    for each in cv_words:\n",
    "        print(each)\n",
    "print('---------')\n",
    "with open('data/jd.json',encoding='utf-8') as f:\n",
    "    jd_words = json.loads(f.read())\n",
    "    for each in jd_words:\n",
    "        print(each)\n",
    "        \n",
    "cv_words['经验']['其他经验'] "
   ]
  },
  {
   "cell_type": "code",
   "execution_count": 146,
   "metadata": {},
   "outputs": [],
   "source": [
    "\"\"\"\n",
    "需要修改！！！！！！\n",
    "允许两个字典不一样，以JD的字典为准！\n",
    "\"\"\"\n",
    "\n",
    "\n",
    "## 设计一个函数，可以一口气比较两个字典。两个字典的结构完全一样,由tag-value组成\n",
    "## 根据JD中的tag去找CV中对于的tag，最后各tag的分数加权平均\n",
    "def dictMatch(JD_dict,CV_dict,tag_weights_dict):\n",
    "    tags = JD_dict.keys()\n",
    "    if len(tags) == 0: # 如果JD没有tags，那就当做都满足了\n",
    "        return 1\n",
    "    else:\n",
    "        final_score = 0 # 是各个tag得分的加权平均\n",
    "        weights_sum = 0\n",
    "        for tag in tag_weights_dict:\n",
    "            weights_sum += tag_weights_dict[tag]\n",
    "        for tag in tags:\n",
    "            assert JD_dict[tag][0] == CV_dict[tag][0], '老哥，两个标签的处理类型不一样呀，请检查！'\n",
    "            JD_entity_list = JD_dict[tag][1]\n",
    "            CV_entity_list = CV_dict[tag][1]\n",
    "            process_type = JD_dict[tag][0]\n",
    "            score = matchScore(JD_entity_list,CV_entity_list,process_type)\n",
    "            score = score*tag_weights_dict[tag]\n",
    "            print('current tag socre:','tag',tag,score)\n",
    "            final_score += score\n",
    "        return final_score/weights_sum # 最后除以这个，使得范围在0~1"
   ]
  },
  {
   "cell_type": "code",
   "execution_count": 153,
   "metadata": {},
   "outputs": [
    {
     "name": "stdout",
     "output_type": "stream",
     "text": [
      "------------Now processing 工作经验----------\n",
      "JD here is empty! Return socre 1.\n",
      "current tag socre: tag 公司名 1\n",
      "JD here is empty! Return socre 1.\n",
      "current tag socre: tag 所在城市 1\n",
      "Using wordList_similarity method.\n",
      "similarity_matrix:\n",
      " [[0.56091617 0.57250099 0.60695407 0.2048798  0.35311877 0.66420528\n",
      "  0.3411799  0.3701852 ]\n",
      " [0.46225103 0.40988464 0.37209713 0.29920428 0.40883243 0.36392237\n",
      "  0.30105929 0.27676373]\n",
      " [0.51905503 0.81889691 0.55337567 0.14397976 0.225566   0.5206425\n",
      "  0.38567083 0.23555425]]\n",
      "highlight_matrix:\n",
      " [[0.56091617 0.57250099 0.60695407 0.2048798  0.35311877 0.66420528\n",
      "  0.3411799  0.3701852 ]\n",
      " [0.46225103 0.40988464 0.37209713 0.29920428 0.40883243 0.36392237\n",
      "  0.30105929 0.27676373]\n",
      " [0.51905503 0.81889691 0.55337567 0.         0.225566   0.5206425\n",
      "  0.38567083 0.23555425]]\n",
      "highlight_items: [0.56091617 0.57250099 0.60695407 0.2048798  0.35311877 0.66420528\n",
      " 0.3411799  0.3701852  0.46225103 0.40988464 0.37209713 0.29920428\n",
      " 0.40883243 0.36392237 0.30105929 0.27676373 0.51905503 0.81889691\n",
      " 0.55337567 0.         0.225566   0.5206425  0.38567083 0.23555425]\n",
      "Overall similarity: 0.4154456668475075\n",
      "Highlight similarity: 0.4272485322207526\n",
      "current tag socre: tag 业务 0.4272485322207526\n",
      "JD here is empty! Return socre 1.\n",
      "current tag socre: tag 产品 1\n",
      "Using wordList_similarity method.\n",
      "similarity_matrix:\n",
      " [[0.70110063]]\n",
      "highlight_matrix:\n",
      " [[0.70110063]]\n",
      "highlight_items: [0.70110063]\n",
      "Overall similarity: 0.7011006263517658\n",
      "Highlight similarity: 0.7011006263517658\n",
      "current tag socre: tag 职位 0.7011006263517658\n",
      "JD here is empty! Return socre 1.\n",
      "current tag socre: tag 年限 1\n",
      "CV here is empty! Return score 0.\n",
      "current tag socre: tag 行业 0\n",
      "JD here is empty! Return socre 1.\n",
      "current tag socre: tag 公司名 1\n",
      "JD here is empty! Return socre 1.\n",
      "current tag socre: tag 所在城市 1\n",
      "Using wordList_similarity method.\n",
      "similarity_matrix:\n",
      " [[0.52554737 0.455085  ]\n",
      " [0.33622909 0.41670623]\n",
      " [1.         0.44309033]]\n",
      "highlight_matrix:\n",
      " [[0.52554737 0.455085  ]\n",
      " [0.33622909 0.41670623]\n",
      " [1.         0.44309033]]\n",
      "highlight_items: [0.52554737 0.455085   0.33622909 0.41670623 1.         0.44309033]\n",
      "Overall similarity: 0.5294430040095678\n",
      "Highlight similarity: 0.5294430040095678\n",
      "current tag socre: tag 业务 0.5294430040095678\n",
      "JD here is empty! Return socre 1.\n",
      "current tag socre: tag 产品 1\n",
      "Using wordList_similarity method.\n",
      "similarity_matrix:\n",
      " [[0.82999528]]\n",
      "highlight_matrix:\n",
      " [[0.82999528]]\n",
      "highlight_items: [0.82999528]\n",
      "Overall similarity: 0.8299952772073473\n",
      "Highlight similarity: 0.8299952772073473\n",
      "current tag socre: tag 职位 0.8299952772073473\n",
      "JD here is empty! Return socre 1.\n",
      "current tag socre: tag 年限 1\n",
      "CV here is empty! Return score 0.\n",
      "current tag socre: tag 行业 0\n",
      "JD here is empty! Return socre 1.\n",
      "current tag socre: tag 公司名 1\n",
      "JD here is empty! Return socre 1.\n",
      "current tag socre: tag 所在城市 1\n",
      "Using wordList_similarity method.\n",
      "similarity_matrix:\n",
      " [[0.38610908 0.52554737 0.50477752 0.5812881  0.43769698 0.5662543\n",
      "  0.39193785]\n",
      " [0.38593511 0.33622909 0.37619646 0.32338696 0.60063061 0.36041167\n",
      "  0.31846801]\n",
      " [0.46143638 1.         0.79845473 0.51133671 0.54426559 0.82570244\n",
      "  0.25910947]]\n",
      "highlight_matrix:\n",
      " [[0.38610908 0.52554737 0.50477752 0.5812881  0.43769698 0.5662543\n",
      "  0.39193785]\n",
      " [0.38593511 0.33622909 0.37619646 0.32338696 0.60063061 0.36041167\n",
      "  0.31846801]\n",
      " [0.46143638 1.         0.79845473 0.51133671 0.54426559 0.82570244\n",
      "  0.25910947]]\n",
      "highlight_items: [0.38610908 0.52554737 0.50477752 0.5812881  0.43769698 0.5662543\n",
      " 0.39193785 0.38593511 0.33622909 0.37619646 0.32338696 0.60063061\n",
      " 0.36041167 0.31846801 0.46143638 1.         0.79845473 0.51133671\n",
      " 0.54426559 0.82570244 0.25910947]\n",
      "Overall similarity: 0.4997702108931378\n",
      "Highlight similarity: 0.4997702108931378\n",
      "current tag socre: tag 业务 0.4997702108931378\n",
      "JD here is empty! Return socre 1.\n",
      "current tag socre: tag 产品 1\n",
      "Using wordList_similarity method.\n",
      "similarity_matrix:\n",
      " [[0.46961975]]\n",
      "highlight_matrix:\n",
      " [[0.46961975]]\n",
      "highlight_items: [0.46961975]\n",
      "Overall similarity: 0.4696197517704822\n",
      "Highlight similarity: 0.4696197517704822\n",
      "current tag socre: tag 职位 0.4696197517704822\n",
      "JD here is empty! Return socre 1.\n",
      "current tag socre: tag 年限 1\n",
      "CV here is empty! Return score 0.\n",
      "current tag socre: tag 行业 0\n",
      "JD here is empty! Return socre 1.\n",
      "current tag socre: tag 公司名 1\n",
      "JD here is empty! Return socre 1.\n",
      "current tag socre: tag 所在城市 1\n",
      "Using wordList_similarity method.\n",
      "similarity_matrix:\n",
      " [[0.52554737]\n",
      " [0.33622909]\n",
      " [1.        ]]\n",
      "highlight_matrix:\n",
      " [[0.52554737]\n",
      " [0.33622909]\n",
      " [1.        ]]\n",
      "highlight_items: [0.52554737 0.33622909 1.        ]\n",
      "Overall similarity: 0.6205921543095098\n",
      "Highlight similarity: 0.6205921543095098\n",
      "current tag socre: tag 业务 0.6205921543095098\n",
      "JD here is empty! Return socre 1.\n",
      "current tag socre: tag 产品 1\n",
      "Using wordList_similarity method.\n",
      "similarity_matrix:\n",
      " [[0.46961975]]\n",
      "highlight_matrix:\n",
      " [[0.46961975]]\n",
      "highlight_items: [0.46961975]\n",
      "Overall similarity: 0.4696197517704822\n",
      "Highlight similarity: 0.4696197517704822\n",
      "current tag socre: tag 职位 0.4696197517704822\n",
      "JD here is empty! Return socre 1.\n",
      "current tag socre: tag 年限 1\n",
      "CV here is empty! Return score 0.\n",
      "current tag socre: tag 行业 0\n",
      "------------Now processing 项目经验----------\n",
      "JD here is empty! Return socre 1.\n",
      "current tag socre: tag 公司名 1\n",
      "JD here is empty! Return socre 1.\n",
      "current tag socre: tag 所在城市 1\n",
      "CV here is empty! Return score 0.\n",
      "current tag socre: tag 业务 0\n",
      "JD here is empty! Return socre 1.\n",
      "current tag socre: tag 产品 1\n",
      "CV here is empty! Return score 0.\n",
      "current tag socre: tag 职位 0\n",
      "JD here is empty! Return socre 1.\n",
      "current tag socre: tag 年限 1\n",
      "CV here is empty! Return score 0.\n",
      "current tag socre: tag 行业 0\n"
     ]
    },
    {
     "name": "stderr",
     "output_type": "stream",
     "text": [
      "E:\\learningsoft\\anadonda\\lib\\site-packages\\ipykernel_launcher.py:20: DeprecationWarning: Call to deprecated `__getitem__` (Method will be removed in 4.0.0, use self.wv.__getitem__() instead).\n",
      "E:\\learningsoft\\anadonda\\lib\\site-packages\\ipykernel_launcher.py:12: DeprecationWarning: Call to deprecated `__getitem__` (Method will be removed in 4.0.0, use self.wv.__getitem__() instead).\n",
      "  if sys.path[0] == '':\n"
     ]
    },
    {
     "data": {
      "text/plain": [
       "0.7382878833273336"
      ]
     },
     "execution_count": 153,
     "metadata": {},
     "output_type": "execute_result"
    }
   ],
   "source": [
    "\"\"\"\n",
    "计算“经验”维度的得分\n",
    "\"\"\"\n",
    "def softmax(x): \n",
    "    x = np.array(x).reshape(1,len(x))\n",
    "    return np.exp(x)/np.sum(np.exp(x),axis=1)\n",
    "def desc_weights(length): # 递减权重，用于多段经历\n",
    "    w = sorted([i for i in range(1,length+1)],reverse=True)\n",
    "    return list(softmax(w)[0])\n",
    "\n",
    "## tag的权重事先给定一个初始值\n",
    "exp_tag_weights = {'公司名':1, '所在城市':1, '业务':1, '产品':1, '职位':1, '年限':1, '行业':1}\n",
    "def ExpScore(jd_exp,cv_exp,tag_weights):\n",
    "    \"\"\"\n",
    "    直接从标准化输入中，根据‘经验’的key来取出。\n",
    "    jd_exp应该直接是一个字典，包含标签和对应的实体；\n",
    "    cv_exp\n",
    "    jd_exp,cv_exp都是字典，前者单层，后者多层\n",
    "    \"\"\"\n",
    "    jd_exp = jd_exp\n",
    "    tags = list(jd_exp.keys())\n",
    "\n",
    "    allType_scores  =[]\n",
    "    for exp_type in ['工作经验','项目经验']: # 各自都是一个list，包含若干个dict\n",
    "        # 对每一种经验，计算其各段子经验的加权平均\n",
    "        print(\"------------Now processing %s----------\"%exp_type)\n",
    "        exps = cv_exp[exp_type] # 一个list，包含若干个dict\n",
    "        if len(exps)>0:\n",
    "            time_weights = desc_weights(len(exps))\n",
    "            current_type_score = 0\n",
    "            for t,exp in enumerate(exps):\n",
    "                current_type_score += dictMatch(jd_exp,exp,tag_weights)*time_weights[t] \n",
    "            allType_scores.append(current_type_score)\n",
    "        else:\n",
    "            allType_scores.append(0)\n",
    "    allType_scores.append(dictMatch(jd_exp,cv_exp['其他经验'],tag_weights)) # 其他经验不是list，就是一个dict，所以直接丢进入算\n",
    "    \n",
    "    best_score = max(allType_scores)\n",
    "    return best_score\n",
    "\n",
    "ExpScore(jd_words['经验'],cv_words['经验'],tag_weights=exp_tag_weights)"
   ]
  },
  {
   "cell_type": "code",
   "execution_count": 134,
   "metadata": {},
   "outputs": [
    {
     "data": {
      "text/plain": [
       "['1', ['客户管理', '产品推广\\n管理', '监督指定', '维修工程师', '英语说写能力', '微软办公软件']]"
      ]
     },
     "execution_count": 134,
     "metadata": {},
     "output_type": "execute_result"
    }
   ],
   "source": [
    "jd_words['技能']"
   ]
  },
  {
   "cell_type": "code",
   "execution_count": 130,
   "metadata": {},
   "outputs": [
    {
     "name": "stdout",
     "output_type": "stream",
     "text": [
      "Using wordList_similarity method.\n",
      "similarity_matrix:\n",
      " [[0.50068142 0.52693534 0.39348812 0.56892239 0.43691496 0.56892239]\n",
      " [0.55542405 0.54296017 0.35086498 0.59353431 0.50519486 0.59353431]\n",
      " [0.40523667 0.36019251 0.35383354 0.37214733 0.31832191 0.37214733]\n",
      " [0.39784989 0.4236861  0.34062104 0.46300251 0.33657805 0.46300251]\n",
      " [0.33826722 0.24043145 0.38978132 0.48842965 0.56507221 0.48842965]\n",
      " [0.47926591 0.48732074 0.35796791 0.47098948 0.38160882 0.47098948]]\n",
      "highlight_matrix:\n",
      " [[0.50068142 0.52693534 0.39348812 0.56892239 0.43691496 0.56892239]\n",
      " [0.55542405 0.54296017 0.35086498 0.59353431 0.50519486 0.59353431]\n",
      " [0.40523667 0.36019251 0.35383354 0.37214733 0.31832191 0.37214733]\n",
      " [0.39784989 0.4236861  0.34062104 0.46300251 0.33657805 0.46300251]\n",
      " [0.33826722 0.24043145 0.38978132 0.48842965 0.56507221 0.48842965]\n",
      " [0.47926591 0.48732074 0.35796791 0.47098948 0.38160882 0.47098948]]\n",
      "highlight_items: [0.50068142 0.52693534 0.39348812 0.56892239 0.43691496 0.56892239\n",
      " 0.55542405 0.54296017 0.35086498 0.59353431 0.50519486 0.59353431\n",
      " 0.40523667 0.36019251 0.35383354 0.37214733 0.31832191 0.37214733\n",
      " 0.39784989 0.4236861  0.34062104 0.46300251 0.33657805 0.46300251\n",
      " 0.33826722 0.24043145 0.38978132 0.48842965 0.56507221 0.48842965\n",
      " 0.47926591 0.48732074 0.35796791 0.47098948 0.38160882 0.47098948]\n",
      "Overall similarity: 0.4417375140080261\n",
      "Highlight similarity: 0.4417375140080262\n"
     ]
    },
    {
     "name": "stderr",
     "output_type": "stream",
     "text": [
      "E:\\learningsoft\\anadonda\\lib\\site-packages\\ipykernel_launcher.py:20: DeprecationWarning: Call to deprecated `__getitem__` (Method will be removed in 4.0.0, use self.wv.__getitem__() instead).\n",
      "E:\\learningsoft\\anadonda\\lib\\site-packages\\ipykernel_launcher.py:12: DeprecationWarning: Call to deprecated `__getitem__` (Method will be removed in 4.0.0, use self.wv.__getitem__() instead).\n",
      "  if sys.path[0] == '':\n"
     ]
    },
    {
     "data": {
      "text/plain": [
       "0.4417375140080262"
      ]
     },
     "execution_count": 130,
     "metadata": {},
     "output_type": "execute_result"
    }
   ],
   "source": [
    "\"\"\"\n",
    "计算“技能”维度的得分\n",
    "这个最简单，就是一个list\n",
    "\"\"\"\n",
    "def SkillScore(jd_skill,cv_skill):\n",
    "    process_type = int(jd_skill[0])\n",
    "    jd_entity_list = jd_skill[1]\n",
    "    cv_entity_list = cv_skill[1]\n",
    "    score = matchScore(jd_entity_list,cv_entity_list,process_type)\n",
    "    return score\n",
    "SkillScore(jd_words['技能'],cv_words['技能'])"
   ]
  },
  {
   "cell_type": "code",
   "execution_count": 132,
   "metadata": {},
   "outputs": [
    {
     "data": {
      "text/plain": [
       "[{'专业': ['1', ['医药营销']], '学历': ['3', ['大专']], '学校': ['3', ['西安医学院']]}]"
      ]
     },
     "execution_count": 132,
     "metadata": {},
     "output_type": "execute_result"
    }
   ],
   "source": [
    "cv_words['教育']"
   ]
  },
  {
   "cell_type": "code",
   "execution_count": 133,
   "metadata": {},
   "outputs": [
    {
     "data": {
      "text/plain": [
       "{'专业': ['1', []], '学历': ['3', ['大专']], '学校': ['3', []]}"
      ]
     },
     "execution_count": 133,
     "metadata": {},
     "output_type": "execute_result"
    }
   ],
   "source": [
    "jd_words['教育']"
   ]
  },
  {
   "cell_type": "code",
   "execution_count": 150,
   "metadata": {},
   "outputs": [
    {
     "name": "stdout",
     "output_type": "stream",
     "text": [
      "JD here is empty! Return socre 1.\n",
      "current tag socre: tag 学校 1\n",
      "Using level_compare method.\n",
      "current tag socre: tag 学历 1\n",
      "JD here is empty! Return socre 1.\n",
      "current tag socre: tag 专业 1\n"
     ]
    },
    {
     "data": {
      "text/plain": [
       "1.0"
      ]
     },
     "execution_count": 150,
     "metadata": {},
     "output_type": "execute_result"
    }
   ],
   "source": [
    "edu_tag_weights = {'专业':1,'学历':1,'学校':1}\n",
    "def EduScore(jd_edu,cv_edu,tag_weights):\n",
    "    # 当前只考虑最近一段教育经历\n",
    "    return dictMatch(jd_edu,cv_edu[0],tag_weights)\n",
    "\n",
    "EduScore(jd_words['教育'],cv_words['教育'],edu_tag_weights)"
   ]
  },
  {
   "cell_type": "code",
   "execution_count": 162,
   "metadata": {},
   "outputs": [
    {
     "name": "stdout",
     "output_type": "stream",
     "text": [
      "------------Now processing 工作经验----------\n",
      "JD here is empty! Return socre 1.\n",
      "current tag socre: tag 公司名 1\n",
      "JD here is empty! Return socre 1.\n",
      "current tag socre: tag 所在城市 1\n",
      "Using wordList_similarity method.\n",
      "similarity_matrix:\n",
      " [[0.56091617 0.57250099 0.60695407 0.2048798  0.35311877 0.66420528\n",
      "  0.3411799  0.3701852 ]\n",
      " [0.46225103 0.40988464 0.37209713 0.29920428 0.40883243 0.36392237\n",
      "  0.30105929 0.27676373]\n",
      " [0.51905503 0.81889691 0.55337567 0.14397976 0.225566   0.5206425\n",
      "  0.38567083 0.23555425]]\n",
      "highlight_matrix:\n",
      " [[0.56091617 0.57250099 0.60695407 0.2048798  0.35311877 0.66420528\n",
      "  0.3411799  0.3701852 ]\n",
      " [0.46225103 0.40988464 0.37209713 0.29920428 0.40883243 0.36392237\n",
      "  0.30105929 0.27676373]\n",
      " [0.51905503 0.81889691 0.55337567 0.         0.225566   0.5206425\n",
      "  0.38567083 0.23555425]]\n",
      "highlight_items: [0.56091617 0.57250099 0.60695407 0.2048798  0.35311877 0.66420528\n",
      " 0.3411799  0.3701852  0.46225103 0.40988464 0.37209713 0.29920428\n",
      " 0.40883243 0.36392237 0.30105929 0.27676373 0.51905503 0.81889691\n",
      " 0.55337567 0.         0.225566   0.5206425  0.38567083 0.23555425]\n",
      "Overall similarity: 0.4154456668475075\n",
      "Highlight similarity: 0.4272485322207526\n",
      "current tag socre: tag 业务 0.4272485322207526\n",
      "JD here is empty! Return socre 1.\n",
      "current tag socre: tag 产品 1\n",
      "Using wordList_similarity method.\n",
      "similarity_matrix:\n",
      " [[0.70110063]]\n",
      "highlight_matrix:\n",
      " [[0.70110063]]\n",
      "highlight_items: [0.70110063]\n",
      "Overall similarity: 0.7011006263517658\n",
      "Highlight similarity: 0.7011006263517658\n",
      "current tag socre: tag 职位 0.7011006263517658\n",
      "JD here is empty! Return socre 1.\n",
      "current tag socre: tag 年限 1\n",
      "CV here is empty! Return score 0.\n",
      "current tag socre: tag 行业 0\n",
      "JD here is empty! Return socre 1.\n",
      "current tag socre: tag 公司名 1\n",
      "JD here is empty! Return socre 1.\n",
      "current tag socre: tag 所在城市 1\n",
      "Using wordList_similarity method.\n",
      "similarity_matrix:\n",
      " [[0.52554737 0.455085  ]\n",
      " [0.33622909 0.41670623]\n",
      " [1.         0.44309033]]\n",
      "highlight_matrix:\n",
      " [[0.52554737 0.455085  ]\n",
      " [0.33622909 0.41670623]\n",
      " [1.         0.44309033]]\n",
      "highlight_items: [0.52554737 0.455085   0.33622909 0.41670623 1.         0.44309033]\n",
      "Overall similarity: 0.5294430040095678\n",
      "Highlight similarity: 0.5294430040095678\n",
      "current tag socre: tag 业务 0.5294430040095678\n",
      "JD here is empty! Return socre 1.\n",
      "current tag socre: tag 产品 1\n",
      "Using wordList_similarity method.\n",
      "similarity_matrix:\n",
      " [[0.82999528]]\n",
      "highlight_matrix:\n",
      " [[0.82999528]]\n",
      "highlight_items: [0.82999528]\n",
      "Overall similarity: 0.8299952772073473\n",
      "Highlight similarity: 0.8299952772073473\n",
      "current tag socre: tag 职位 0.8299952772073473\n",
      "JD here is empty! Return socre 1.\n",
      "current tag socre: tag 年限 1\n",
      "CV here is empty! Return score 0.\n",
      "current tag socre: tag 行业 0\n",
      "JD here is empty! Return socre 1.\n",
      "current tag socre: tag 公司名 1\n",
      "JD here is empty! Return socre 1.\n",
      "current tag socre: tag 所在城市 1\n",
      "Using wordList_similarity method.\n",
      "similarity_matrix:\n",
      " [[0.38610908 0.52554737 0.50477752 0.5812881  0.43769698 0.5662543\n",
      "  0.39193785]\n",
      " [0.38593511 0.33622909 0.37619646 0.32338696 0.60063061 0.36041167\n",
      "  0.31846801]\n",
      " [0.46143638 1.         0.79845473 0.51133671 0.54426559 0.82570244\n",
      "  0.25910947]]\n",
      "highlight_matrix:\n",
      " [[0.38610908 0.52554737 0.50477752 0.5812881  0.43769698 0.5662543\n",
      "  0.39193785]\n",
      " [0.38593511 0.33622909 0.37619646 0.32338696 0.60063061 0.36041167\n",
      "  0.31846801]\n",
      " [0.46143638 1.         0.79845473 0.51133671 0.54426559 0.82570244\n",
      "  0.25910947]]\n",
      "highlight_items: [0.38610908 0.52554737 0.50477752 0.5812881  0.43769698 0.5662543\n",
      " 0.39193785 0.38593511 0.33622909 0.37619646 0.32338696 0.60063061\n",
      " 0.36041167 0.31846801 0.46143638 1.         0.79845473 0.51133671\n",
      " 0.54426559 0.82570244 0.25910947]\n",
      "Overall similarity: 0.4997702108931378\n",
      "Highlight similarity: 0.4997702108931378\n",
      "current tag socre: tag 业务 0.4997702108931378\n",
      "JD here is empty! Return socre 1.\n",
      "current tag socre: tag 产品 1\n",
      "Using wordList_similarity method.\n",
      "similarity_matrix:\n",
      " [[0.46961975]]\n",
      "highlight_matrix:\n",
      " [[0.46961975]]\n",
      "highlight_items: [0.46961975]\n",
      "Overall similarity: 0.4696197517704822\n",
      "Highlight similarity: 0.4696197517704822\n",
      "current tag socre: tag 职位 0.4696197517704822\n",
      "JD here is empty! Return socre 1.\n",
      "current tag socre: tag 年限 1\n",
      "CV here is empty! Return score 0.\n",
      "current tag socre: tag 行业 0\n",
      "JD here is empty! Return socre 1.\n",
      "current tag socre: tag 公司名 1\n",
      "JD here is empty! Return socre 1.\n",
      "current tag socre: tag 所在城市 1\n",
      "Using wordList_similarity method.\n",
      "similarity_matrix:\n",
      " [[0.52554737]\n",
      " [0.33622909]\n",
      " [1.        ]]\n",
      "highlight_matrix:\n",
      " [[0.52554737]\n",
      " [0.33622909]\n",
      " [1.        ]]\n",
      "highlight_items: [0.52554737 0.33622909 1.        ]\n",
      "Overall similarity: 0.6205921543095098\n",
      "Highlight similarity: 0.6205921543095098\n",
      "current tag socre: tag 业务 0.6205921543095098\n",
      "JD here is empty! Return socre 1.\n",
      "current tag socre: tag 产品 1\n",
      "Using wordList_similarity method.\n",
      "similarity_matrix:\n",
      " [[0.46961975]]\n",
      "highlight_matrix:\n",
      " [[0.46961975]]\n",
      "highlight_items: [0.46961975]\n",
      "Overall similarity: 0.4696197517704822\n",
      "Highlight similarity: 0.4696197517704822\n",
      "current tag socre: tag 职位 0.4696197517704822\n",
      "JD here is empty! Return socre 1.\n",
      "current tag socre: tag 年限 1\n",
      "CV here is empty! Return score 0.\n",
      "current tag socre: tag 行业 0\n",
      "------------Now processing 项目经验----------\n",
      "JD here is empty! Return socre 1.\n",
      "current tag socre: tag 公司名 1\n",
      "JD here is empty! Return socre 1.\n",
      "current tag socre: tag 所在城市 1\n",
      "CV here is empty! Return score 0.\n",
      "current tag socre: tag 业务 0\n",
      "JD here is empty! Return socre 1.\n",
      "current tag socre: tag 产品 1\n",
      "CV here is empty! Return score 0.\n",
      "current tag socre: tag 职位 0\n",
      "JD here is empty! Return socre 1.\n",
      "current tag socre: tag 年限 1\n",
      "CV here is empty! Return score 0.\n",
      "current tag socre: tag 行业 0\n",
      "Using wordList_similarity method.\n",
      "similarity_matrix:\n",
      " [[0.50068142 0.52693534 0.39348812 0.56892239 0.43691496 0.56892239]\n",
      " [0.55542405 0.54296017 0.35086498 0.59353431 0.50519486 0.59353431]\n",
      " [0.40523667 0.36019251 0.35383354 0.37214733 0.31832191 0.37214733]\n",
      " [0.39784989 0.4236861  0.34062104 0.46300251 0.33657805 0.46300251]\n",
      " [0.33826722 0.24043145 0.38978132 0.48842965 0.56507221 0.48842965]\n",
      " [0.47926591 0.48732074 0.35796791 0.47098948 0.38160882 0.47098948]]\n",
      "highlight_matrix:\n",
      " [[0.50068142 0.52693534 0.39348812 0.56892239 0.43691496 0.56892239]\n",
      " [0.55542405 0.54296017 0.35086498 0.59353431 0.50519486 0.59353431]\n",
      " [0.40523667 0.36019251 0.35383354 0.37214733 0.31832191 0.37214733]\n",
      " [0.39784989 0.4236861  0.34062104 0.46300251 0.33657805 0.46300251]\n",
      " [0.33826722 0.24043145 0.38978132 0.48842965 0.56507221 0.48842965]\n",
      " [0.47926591 0.48732074 0.35796791 0.47098948 0.38160882 0.47098948]]\n",
      "highlight_items: [0.50068142 0.52693534 0.39348812 0.56892239 0.43691496 0.56892239\n",
      " 0.55542405 0.54296017 0.35086498 0.59353431 0.50519486 0.59353431\n",
      " 0.40523667 0.36019251 0.35383354 0.37214733 0.31832191 0.37214733\n",
      " 0.39784989 0.4236861  0.34062104 0.46300251 0.33657805 0.46300251\n",
      " 0.33826722 0.24043145 0.38978132 0.48842965 0.56507221 0.48842965\n",
      " 0.47926591 0.48732074 0.35796791 0.47098948 0.38160882 0.47098948]\n",
      "Overall similarity: 0.4417375140080261\n",
      "Highlight similarity: 0.4417375140080262\n",
      "JD here is empty! Return socre 1.\n",
      "current tag socre: tag 学校 1\n",
      "Using level_compare method.\n",
      "current tag socre: tag 学历 1\n",
      "JD here is empty! Return socre 1.\n",
      "current tag socre: tag 专业 1\n",
      "======================Result:========================\n",
      "JD name:  201808-119383 Sr Account Executive  JD id:  390175\n",
      " CV id:  5a0b1d8ef0f09aa8436afa3c\n",
      "经验维度得分： 0.7382878833273336\n",
      "技能维度得分： 0.4417375140080262\n",
      "教育维度得分： 1.0\n",
      "总分： 2.18002539733536\n"
     ]
    },
    {
     "name": "stderr",
     "output_type": "stream",
     "text": [
      "E:\\learningsoft\\anadonda\\lib\\site-packages\\ipykernel_launcher.py:20: DeprecationWarning: Call to deprecated `__getitem__` (Method will be removed in 4.0.0, use self.wv.__getitem__() instead).\n",
      "E:\\learningsoft\\anadonda\\lib\\site-packages\\ipykernel_launcher.py:12: DeprecationWarning: Call to deprecated `__getitem__` (Method will be removed in 4.0.0, use self.wv.__getitem__() instead).\n",
      "  if sys.path[0] == '':\n"
     ]
    },
    {
     "data": {
      "text/plain": [
       "2.18002539733536"
      ]
     },
     "execution_count": 162,
     "metadata": {},
     "output_type": "execute_result"
    }
   ],
   "source": [
    "def OverallScore(jd,cv,exp_tag_weights,edu_tag_weights):\n",
    "    exp_score = ExpScore(jd['经验'],cv['经验'],exp_tag_weights)\n",
    "    skill_score = SkillScore(jd['技能'],cv['技能'])\n",
    "    edu_score = EduScore(jd['教育'],cv['教育'],edu_tag_weights)\n",
    "    print('======================Result:========================')\n",
    "    print('JD name: ',jd['name'],' JD id: ',jd['id'])\n",
    "    print(' CV id: ',cv['id'])\n",
    "    print('经验维度得分：',exp_score)\n",
    "    print('技能维度得分：',skill_score)\n",
    "    print('教育维度得分：',edu_score)\n",
    "    print('总分：',exp_score+skill_score+edu_score)\n",
    "    return exp_score+skill_score+edu_score\n",
    "\n",
    "exp_tag_weights = {'公司名':1, '所在城市':1, '业务':1, '产品':1, '职位':1, '年限':1, '行业':1}\n",
    "edu_tag_weights = {'专业':1,'学历':1,'学校':1}\n",
    "OverallScore(jd_words,cv_words,exp_tag_weights,edu_tag_weights)"
   ]
  },
  {
   "cell_type": "code",
   "execution_count": 154,
   "metadata": {},
   "outputs": [
    {
     "data": {
      "text/plain": [
       "dict_keys(['id', 'name', '教育', '经验', '技能', '基本信息', '其他标签'])"
      ]
     },
     "execution_count": 154,
     "metadata": {},
     "output_type": "execute_result"
    }
   ],
   "source": [
    "jd_words.keys()"
   ]
  },
  {
   "cell_type": "code",
   "execution_count": 155,
   "metadata": {},
   "outputs": [
    {
     "data": {
      "text/plain": [
       "dict_keys(['id', '教育', '经验', '技能', '基本信息', '其他标签'])"
      ]
     },
     "execution_count": 155,
     "metadata": {},
     "output_type": "execute_result"
    }
   ],
   "source": [
    "cv_words.keys()"
   ]
  },
  {
   "cell_type": "code",
   "execution_count": null,
   "metadata": {},
   "outputs": [],
   "source": []
  }
 ],
 "metadata": {
  "kernelspec": {
   "display_name": "Python 3",
   "language": "python",
   "name": "python3"
  },
  "language_info": {
   "codemirror_mode": {
    "name": "ipython",
    "version": 3
   },
   "file_extension": ".py",
   "mimetype": "text/x-python",
   "name": "python",
   "nbconvert_exporter": "python",
   "pygments_lexer": "ipython3",
   "version": "3.6.3"
  }
 },
 "nbformat": 4,
 "nbformat_minor": 2
}
