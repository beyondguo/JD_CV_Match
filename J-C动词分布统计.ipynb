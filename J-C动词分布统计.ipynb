{
 "cells": [
  {
   "cell_type": "code",
   "execution_count": 1,
   "metadata": {},
   "outputs": [],
   "source": [
    "\"\"\"\n",
    "加载LTP工具:\n",
    "\"\"\"\n",
    "import os\n",
    "LTP_DATA_DIR = 'F:/MyDownloads/ltp_data_v3.4.0/ltp_data_v3.4.0'  # ltp模型目录的路径\n",
    "cws_model_path = os.path.join(LTP_DATA_DIR, 'cws.model')  # 分词模型路径\n",
    "from pyltp import Segmentor # 分词器\n",
    "from pyltp import Postagger # 词性标注器\n",
    "from pyltp import Parser # 句法分析器\n",
    "\n",
    "segmentor = Segmentor()  # 初始化实例\n",
    "segmentor.load_with_lexicon(cws_model_path, 'data/userword.txt')\n",
    "# segmentor.load(cws_model_path)  # 加载模型\n",
    "pos_model_path = os.path.join(LTP_DATA_DIR, 'pos.model')  # 词性标注模型路径，模型名称为`pos.model`\n",
    "postagger = Postagger() # 初始化实例\n",
    "postagger.load(pos_model_path)  # 加载模型\n",
    "par_model_path = os.path.join(LTP_DATA_DIR, 'parser.model')  # 依存句法分析模型路径，模型名称为`parser.model`\n",
    "parser = Parser() # 初始化实例\n",
    "parser.load(par_model_path)  # 加载模型\n",
    "\n",
    "def get_words_and_tags(sentence):\n",
    "    words = list(segmentor.segment(sentence))\n",
    "    postags = list(postagger.postag(words))\n",
    "    return [words,postags]\n",
    "\n",
    "relation_dic = {'SBV':'主谓关系','VOB':'动宾关系','IOB':'间宾关系','FOB':'前置宾语',\\\n",
    "                'DBL':'兼语','ATT':'定中关系','ADV':'状中结构','CMP':'动补结构',\\\n",
    "                'COO':'并列关系','POB':'介宾关系','LAD':'左附加关系','RAD':'右附加关系','IS':'独立结构','HED':'核心关系','WP':'标点'}"
   ]
  },
  {
   "cell_type": "code",
   "execution_count": 28,
   "metadata": {},
   "outputs": [],
   "source": [
    "#加载停用词表：\n",
    "stopwords = []\n",
    "with open(r'C:\\Users\\x1c\\Desktop\\猎上顺丰简历项目\\stopwords.txt','r',encoding='utf-8') as f:\n",
    "    stopwords1 = f.readlines()\n",
    "stopwords1 = [x.replace('\\n','') for x in stopwords1]\n",
    "with open(r'C:\\Users\\x1c\\Desktop\\猎上顺丰简历项目\\stopwords_additional.txt','r',encoding='utf-8') as f:\n",
    "    stopwords2 = f.readlines()\n",
    "stopwords2 = [x.replace('\\n','') for x in stopwords2]\n",
    "stopwords = stopwords1+stopwords2"
   ]
  },
  {
   "cell_type": "code",
   "execution_count": 31,
   "metadata": {},
   "outputs": [],
   "source": [
    "\"\"\"\n",
    "抽取句子中指定关系的动词：\n",
    "\"\"\"\n",
    "import re\n",
    "# 自定义分句：\n",
    "def beyondSplit(x):\n",
    "    sentences = re.split(\"。|，|？|！|：|；|\\.|,|\\?|\\!|:|;|\\n|\\t\",x)\n",
    "    return sentences\n",
    "selected_relations = ['SBV','VOB','IOB','FOB','ATT','COO','HED']\n",
    "\n",
    "\n",
    "def getImportantVerbs(sentence,selected_relations=selected_relations):\n",
    "    important_verbs = []\n",
    "    # 当句子太长的时候，会让LTP崩溃，也会让你崩溃！因为LTP不会告诉你出了什么问题！\n",
    "    if len(sentence)>200:\n",
    "        sentences = beyondSplit(sentence)\n",
    "    else:\n",
    "        sentences = [sentence]\n",
    "    for sentence in sentences:\n",
    "        words,postags = get_words_and_tags(sentence)\n",
    "        arcs = parser.parse(words, postags)\n",
    "        for index,arc in enumerate(arcs):\n",
    "            word = words[index]\n",
    "            relation = arc.relation\n",
    "#             print(word,relation)\n",
    "            tag = postags[index]\n",
    "            if relation in selected_relations \\\n",
    "            and tag == 'v' and len(word)>1 \\\n",
    "            and word not in stopwords:\n",
    "                important_verbs.append(word)\n",
    "    return important_verbs"
   ]
  },
  {
   "cell_type": "code",
   "execution_count": 32,
   "metadata": {},
   "outputs": [
    {
     "name": "stdout",
     "output_type": "stream",
     "text": [
      "[['开发', '机器学习', '系统'], ['v', 'n', 'n']]\n",
      "['开发']\n",
      "[['进行', '系统', '的', '设计', '、', '研发', '工作'], ['v', 'a', 'u', 'v', 'wp', 'v', 'v']]\n",
      "['设计', '研发']\n"
     ]
    }
   ],
   "source": [
    "print(get_words_and_tags('开发机器学习系统'))\n",
    "print(getImportantVerbs('开发机器学习系统'))\n",
    "print(get_words_and_tags('进行系统的设计、研发工作'))\n",
    "print(getImportantVerbs('进行系统的设计、研发工作'))"
   ]
  },
  {
   "cell_type": "code",
   "execution_count": 33,
   "metadata": {},
   "outputs": [],
   "source": [
    "\"\"\"\n",
    "对CV的动词词频统计：\n",
    "\"\"\"\n",
    "import os\n",
    "import pandas as pd\n",
    "\n",
    "fs = os.listdir('data/CV_data')\n",
    "categories = [x.split('.')[0] for x in fs]\n",
    "# ['Algorithms', 'Embedded', 'HR', 'JAVA', 'Reserve_Cadres', 'TEST']\n",
    "CV_v_dict = {}\n",
    "for cate in categories:\n",
    "    CV_v_dict[cate] = []"
   ]
  },
  {
   "cell_type": "code",
   "execution_count": 34,
   "metadata": {},
   "outputs": [
    {
     "name": "stdout",
     "output_type": "stream",
     "text": [
      "Algorithms (300, 12)\n",
      "Embedded (1000, 12)\n",
      "HR (1000, 12)\n",
      "JAVA (1000, 12)\n",
      "Reserve_Cads (1000, 12)\n",
      "Test (1000, 11)\n"
     ]
    }
   ],
   "source": [
    "for cate,f in zip(categories,fs):\n",
    "    df = pd.read_excel('data/CV_data/'+f)\n",
    "    print(cate,df.shape)"
   ]
  },
  {
   "cell_type": "code",
   "execution_count": 90,
   "metadata": {},
   "outputs": [
    {
     "name": "stdout",
     "output_type": "stream",
     "text": [
      "正在处理文件： Algorithms.xlsx\n",
      "Algorithms.xlsx 共包含动词数： 10672\n",
      "正在将排序后的数据写入文件......\n",
      "写入完毕！\n",
      "正在处理文件： Embedded.xlsx\n",
      "Embedded.xlsx 共包含动词数： 30086\n",
      "正在将排序后的数据写入文件......\n",
      "写入完毕！\n",
      "正在处理文件： HR.xlsx\n",
      "HR.xlsx 共包含动词数： 29380\n",
      "正在将排序后的数据写入文件......\n",
      "写入完毕！\n",
      "正在处理文件： JAVA.xls\n",
      "JAVA.xls 共包含动词数： 57584\n",
      "正在将排序后的数据写入文件......\n",
      "写入完毕！\n",
      "正在处理文件： Reserve_Cads.xlsx\n",
      "Reserve_Cads.xlsx 共包含动词数： 9652\n",
      "正在将排序后的数据写入文件......\n",
      "写入完毕！\n",
      "正在处理文件： Test.xlsx\n",
      "Test.xlsx 共包含动词数： 47006\n",
      "正在将排序后的数据写入文件......\n",
      "写入完毕！\n"
     ]
    }
   ],
   "source": [
    "from collections import Counter\n",
    "# index = 5\n",
    "# f = fs[index]\n",
    "# cate = categories[index]\n",
    "for f,cate in zip(fs,categories):\n",
    "    print(\"正在处理文件：\",f)\n",
    "    df = pd.read_excel('data/CV_data/'+f,)\n",
    "    for s1,s2,s3 in zip(df['项目-描述'],df['项目-职责'],df['工作内容']):\n",
    "        if isinstance(s1,str):\n",
    "            CV_v_dict[cate] += getImportantVerbs(s1) \n",
    "        if isinstance(s2,str):\n",
    "            CV_v_dict[cate] += getImportantVerbs(s2) \n",
    "        if isinstance(s3,str):\n",
    "            CV_v_dict[cate] += getImportantVerbs(s3) \n",
    "    print(f,'共包含动词数：',len(CV_v_dict[cate]))\n",
    "    counted_dic = Counter(CV_v_dict[cate])\n",
    "    sorted_dic = sorted(counted_dic.items(),key=lambda x:x[1],reverse=True)\n",
    "    print(\"正在将排序后的数据写入文件......\")\n",
    "    with open('results/ImportantVerbs_'+cate+'.txt','w',encoding='utf-8') as txt:\n",
    "        for item in sorted_dic:\n",
    "            line = str(item[0])+','+str(item[1])\n",
    "            txt.write(line+\"\\n\")\n",
    "    print(\"写入完毕！\")"
   ]
  },
  {
   "cell_type": "code",
   "execution_count": 103,
   "metadata": {},
   "outputs": [
    {
     "name": "stdout",
     "output_type": "stream",
     "text": [
      "10672 1145\n",
      "30086 1833\n",
      "29380 1761\n",
      "57584 2286\n",
      "9652 1366\n",
      "47006 2371\n",
      "2371\n",
      "2371\n",
      "2371\n",
      "2371\n",
      "2371\n",
      "2371\n"
     ]
    }
   ],
   "source": [
    "\"\"\"\n",
    "CV词频分布：\n",
    "\"\"\"\n",
    "from pyecharts import Line\n",
    "from pyecharts import WordCloud\n",
    "Percents = []\n",
    "for cate in categories:\n",
    "    total_num = len(CV_v_dict[cate])\n",
    "    counted_dic = Counter(CV_v_dict[cate])\n",
    "    sorted_dic = sorted(counted_dic.items(),key=lambda x:x[1],reverse=True)\n",
    "    unique_num = len(sorted_dic)\n",
    "    print(total_num,unique_num)\n",
    "    percents = []\n",
    "    accunulated_num = 0\n",
    "    for i,each in enumerate(sorted_dic):\n",
    "        top_num = i+1 # 前几个词\n",
    "        accunulated_num += each[1]\n",
    "        percent = accunulated_num/total_num\n",
    "        percents.append(percent)\n",
    "    Percents.append(percents)\n",
    "    wordcloud = WordCloud(width=1300, height=620)\n",
    "    wordcloud.add(\"\",[x[0] for x in sorted_dic], [x[1] for x in sorted_dic], word_size_range=[20, 100])\n",
    "    wordcloud.render('results/wordcloud/'+cate+'.html')\n",
    "\n",
    "pad_Percents = []\n",
    "for each in Percents:\n",
    "#     print(len(each))\n",
    "    len_plus = 2371-len(each)\n",
    "    plus = [1 for _ in range(len_plus)]\n",
    "    each = each + plus\n",
    "    pad_Percents.append(each)\n",
    "for each in pad_Percents:\n",
    "    print(len(each))\n",
    "\n",
    "# 画词频折线图：\n",
    "attr = [x+1 for x in range(2371)]\n",
    "line = Line(\"CV动词词频分布(不含停用词、非重要关系词)\",width=1500,height=600)\n",
    "# line.use_theme(\"\")\n",
    "for cate,v in zip(categories,pad_Percents):\n",
    "    line.add(cate, attr, v, \\\n",
    "             mark_point=[{\"coord\": [200,v[201]], \"name\": \"top 200\"}],\n",
    "             mark_point_textcolor='#333333',\n",
    "            is_fill=True,\n",
    "            area_opacity=0.3,\n",
    "            is_smooth=True,\n",
    "            legend_selectedmode='single')\n",
    "line.render('results/CV动词词频分布.html')"
   ]
  },
  {
   "cell_type": "code",
   "execution_count": 69,
   "metadata": {},
   "outputs": [],
   "source": [
    "\n"
   ]
  },
  {
   "cell_type": "code",
   "execution_count": 42,
   "metadata": {},
   "outputs": [
    {
     "name": "stdout",
     "output_type": "stream",
     "text": [
      "正在写入....\n",
      "写入完毕！\n"
     ]
    }
   ],
   "source": [
    "\"\"\"\n",
    "JD动词分布统计：\n",
    "\"\"\"\n",
    "from collections import Counter\n",
    "import pandas as pd\n",
    "df = pd.read_csv('data/position.csv',header=0)\n",
    "reserve_df = df[df['position_title']=='储备干部']\n",
    "reserve_verbs = []\n",
    "for s1,s2 in zip(reserve_df['description'],reserve_df['job_requirements']):\n",
    "    if isinstance(s1,str):\n",
    "        reserve_verbs += getImportantVerbs(s1)\n",
    "    if isinstance(s2,str):\n",
    "        reserve_verbs += getImportantVerbs(s2)\n",
    "counted_dic = Counter(reserve_verbs)\n",
    "sorted_dic = sorted(counted_dic.items(),key = lambda x:x[1],reverse=True)\n",
    "print(\"正在写入....\")\n",
    "with open('ImportantVerbs_Reserve_JD.txt','w',encoding='utf-8') as txt:\n",
    "    for item in sorted_dic:\n",
    "        line = str(item[0])+','+str(item[1])\n",
    "        txt.write(line+\"\\n\")\n",
    "print(\"写入完毕！\")"
   ]
  },
  {
   "cell_type": "code",
   "execution_count": 63,
   "metadata": {},
   "outputs": [],
   "source": []
  },
  {
   "cell_type": "code",
   "execution_count": 104,
   "metadata": {},
   "outputs": [],
   "source": [
    "segmentor.release()\n",
    "postagger.release()\n",
    "parser.release()"
   ]
  },
  {
   "cell_type": "code",
   "execution_count": null,
   "metadata": {},
   "outputs": [],
   "source": []
  }
 ],
 "metadata": {
  "kernelspec": {
   "display_name": "Python 3",
   "language": "python",
   "name": "python3"
  },
  "language_info": {
   "codemirror_mode": {
    "name": "ipython",
    "version": 3
   },
   "file_extension": ".py",
   "mimetype": "text/x-python",
   "name": "python",
   "nbconvert_exporter": "python",
   "pygments_lexer": "ipython3",
   "version": "3.6.3"
  }
 },
 "nbformat": 4,
 "nbformat_minor": 2
}
