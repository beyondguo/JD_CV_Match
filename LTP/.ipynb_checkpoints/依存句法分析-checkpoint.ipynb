{
 "cells": [
  {
   "cell_type": "code",
   "execution_count": 1,
   "metadata": {},
   "outputs": [
    {
     "name": "stdout",
     "output_type": "stream",
     "text": [
      "['元芳', '你', '怎么', '看']\n"
     ]
    }
   ],
   "source": [
    "import os\n",
    "from pyltp import SentenceSplitter\n",
    "################ 分词：################\n",
    "LTP_DATA_DIR = 'F:/MyDownloads/ltp_data_v3.4.0/ltp_data_v3.4.0'  # ltp模型目录的路径\n",
    "cws_model_path = os.path.join(LTP_DATA_DIR, 'cws.model')  # 分词模型路径，模型名称为`cws.model`\n",
    "\n",
    "from pyltp import Segmentor\n",
    "segmentor = Segmentor()  # 初始化实例\n",
    "segmentor.load(cws_model_path)  # 加载模型\n",
    "words = segmentor.segment('元芳你怎么看')  # 分词\n",
    "print(list(words))\n",
    "# segmentor.release()  # 释放模型"
   ]
  },
  {
   "cell_type": "code",
   "execution_count": 2,
   "metadata": {},
   "outputs": [
    {
     "name": "stdout",
     "output_type": "stream",
     "text": [
      "['nh', 'r', 'r', 'v']\n"
     ]
    }
   ],
   "source": [
    "################ 词性标注：################\n",
    "pos_model_path = os.path.join(LTP_DATA_DIR, 'pos.model')  # 词性标注模型路径，模型名称为`pos.model`\n",
    "\n",
    "from pyltp import Postagger\n",
    "postagger = Postagger() # 初始化实例\n",
    "postagger.load(pos_model_path)  # 加载模型\n",
    "\n",
    "words = ['元芳', '你', '怎么', '看']  # 分词结果\n",
    "postags = postagger.postag(words)  # 词性标注\n",
    "print(list(postags))\n",
    "# postagger.release()  # 释放模型"
   ]
  },
  {
   "cell_type": "code",
   "execution_count": 16,
   "metadata": {},
   "outputs": [
    {
     "name": "stdout",
     "output_type": "stream",
     "text": [
      "(0) 对 | (3) 分类 | ADV | 状中结构\n",
      "(1) 行人 | (2) 属性 | ATT | 定中关系\n",
      "(2) 属性 | (0) 对 | POB | 介宾关系\n",
      "(3) 分类 | (-1) ROOT | HED | 核心关系\n"
     ]
    }
   ],
   "source": [
    "################ 依存句法分析：################\n",
    "par_model_path = os.path.join(LTP_DATA_DIR, 'parser.model')  # 依存句法分析模型路径，模型名称为`parser.model`\n",
    "\n",
    "from pyltp import Parser\n",
    "parser = Parser() # 初始化实例\n",
    "parser.load(par_model_path)  # 加载模型\n",
    "\n",
    "relation_dic = {'SBV':'主谓关系','VOB':'动宾关系','IOB':'间宾关系','FOB':'前置宾语',\\\n",
    "                'DBL':'兼语','ATT':'定中关系','ADV':'状中结构','CMP':'动补结构',\\\n",
    "                'COO':'并列关系','POB':'介宾关系','LAD':'左附加关系','RAD':'右附加关系','IS':'独立结构','HED':'核心关系','WP':'标点'}\n",
    "\n",
    "my_sentence = '对行人属性分类'\n",
    "\n",
    "def get_words_and_tags(sentence):\n",
    "    words = list(segmentor.segment(sentence))\n",
    "    postags = list(postagger.postag(words))\n",
    "    return [words,postags]\n",
    "\n",
    "words,postags = get_words_and_tags(my_sentence)\n",
    "arcs = parser.parse(words, postags)  # 句法分析\n",
    "\n",
    "for index,arc in enumerate(arcs):\n",
    "    relation_word = words[arc.head-1] if arc.head>0 else 'ROOT'\n",
    "    relation = arc.relation\n",
    "    \n",
    "    print('('+str(index)+') '+words[index],'|',\\\n",
    "            '('+str(arc.head-1)+') '+relation_word,'|',\\\n",
    "            relation,'|',relation_dic[relation])\n",
    "\n",
    "#     if relation in ['SBV','VOB','ATT','COO']:\n",
    "#         combination = words[index]+relation_word if index<=arc.head-1 else relation_word+words[index]\n",
    "#         print('('+str(index)+') '+words[index],'|',\\\n",
    "#               '('+str(arc.head-1)+') '+relation_word,'|',\\\n",
    "#               relation,'|',relation_dic[relation],'|',combination)\n",
    "\n",
    "# print(\"\\t\".join(\"%d:%s\" % (arc.head, arc.relation) for arc in arcs))\n",
    "parser.release()  # 释放模型"
   ]
  },
  {
   "cell_type": "code",
   "execution_count": 4,
   "metadata": {},
   "outputs": [
    {
     "name": "stdout",
     "output_type": "stream",
     "text": [
      "包括 -- 包括\n",
      "包括 -- 房源\n",
      "采用 -- 架构\n",
      "采用 -- 技术\n",
      "采用 -- sqlserver\n",
      "为 -- 南方\n"
     ]
    }
   ],
   "source": [
    "for i,each in enumerate(arcs):\n",
    "    if each.relation == 'VOB':\n",
    "        print(words[each.head-1],\"--\",words[i])"
   ]
  },
  {
   "cell_type": "code",
   "execution_count": 4,
   "metadata": {},
   "outputs": [
    {
     "data": {
      "text/plain": [
       "['阿斯顿', '发爱', '迪生', '念', '佛', '我', '爱', '上你', '都该', '但是', '那', '个阿斯', '蒂芬']"
      ]
     },
     "execution_count": 4,
     "metadata": {},
     "output_type": "execute_result"
    }
   ],
   "source": [
    "import re\n",
    "def beyondSplit(x):\n",
    "    sentences = re.split('。|，|？|！|：|；|\\.|,|\\?|\\!|:|;',x)\n",
    "    return sentences\n",
    "beyondSplit(\"阿斯顿。发爱，迪生：念;佛；我:爱？上你！都该.但是,那?个阿斯!蒂芬\")"
   ]
  },
  {
   "cell_type": "code",
   "execution_count": null,
   "metadata": {},
   "outputs": [],
   "source": []
  }
 ],
 "metadata": {
  "kernelspec": {
   "display_name": "Python 3",
   "language": "python",
   "name": "python3"
  },
  "language_info": {
   "codemirror_mode": {
    "name": "ipython",
    "version": 3
   },
   "file_extension": ".py",
   "mimetype": "text/x-python",
   "name": "python",
   "nbconvert_exporter": "python",
   "pygments_lexer": "ipython3",
   "version": "3.6.3"
  }
 },
 "nbformat": 4,
 "nbformat_minor": 2
}
