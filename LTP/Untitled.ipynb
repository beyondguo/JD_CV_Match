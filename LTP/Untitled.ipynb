{
 "cells": [
  {
   "cell_type": "markdown",
   "metadata": {},
   "source": [
    "## 标注短语的重要词组提取\n",
    "<br>\n",
    "\n",
    "### 主要改进：\n",
    "<br>\n",
    "\n",
    ">- 添加了**用户词典**，提高了分词的准确性，进而改善词组提取的效果 \n",
    "\n",
    ">- 增加了对**中英结合的短语**的词组提取\n",
    "\n",
    ">- 放宽了**关系筛选标准**<br>\n"
   ]
  },
  {
   "cell_type": "code",
   "execution_count": null,
   "metadata": {},
   "outputs": [],
   "source": []
  }
 ],
 "metadata": {
  "kernelspec": {
   "display_name": "Python 3",
   "language": "python",
   "name": "python3"
  },
  "language_info": {
   "codemirror_mode": {
    "name": "ipython",
    "version": 3
   },
   "file_extension": ".py",
   "mimetype": "text/x-python",
   "name": "python",
   "nbconvert_exporter": "python",
   "pygments_lexer": "ipython3",
   "version": "3.6.3"
  }
 },
 "nbformat": 4,
 "nbformat_minor": 2
}
