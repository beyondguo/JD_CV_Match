{
 "cells": [
  {
   "cell_type": "code",
   "execution_count": 1,
   "metadata": {},
   "outputs": [
    {
     "ename": "SyntaxError",
     "evalue": "unexpected character after line continuation character (<ipython-input-1-70316d0730ad>, line 8)",
     "output_type": "error",
     "traceback": [
      "\u001b[1;36m  File \u001b[1;32m\"<ipython-input-1-70316d0730ad>\"\u001b[1;36m, line \u001b[1;32m8\u001b[0m\n\u001b[1;33m    JD1_dic = {'行业':['金融'],\\。\u001b[0m\n\u001b[1;37m                             ^\u001b[0m\n\u001b[1;31mSyntaxError\u001b[0m\u001b[1;31m:\u001b[0m unexpected character after line continuation character\n"
     ]
    }
   ],
   "source": [
    "\"\"\"\n",
    "匹配度计算模块\n",
    "\"\"\"\n",
    "from gensim.models import Word2Vec\n",
    "import numpy as np\n",
    "wvmodel = Word2Vec.load('../big_things/models/wikibaikeWV250/wikibaikewv250')\n",
    "wvdim = 250\n",
    "import jieba\n",
    "from sklearn.metrics.pairwise import cosine_similarity\n",
    "vocab = wvmodel.wv.vocab\n",
    "\n",
    "# 输入一组数，返回对应的归一化后的结果\n",
    "def softmax(x): \n",
    "    x = np.array(x).reshape(1,len(x))\n",
    "    return np.exp(x)/np.sum(np.exp(x),axis=1)\n",
    "\n",
    "# 给定列表长度，返回递减的权重列表\n",
    "def desc_weights(length): \n",
    "    w = sorted([i for i in range(1,length+1)],reverse=True)\n",
    "    return list(softmax(w)[0])\n",
    "\n",
    "def Wordlist_Wv(wordlist,wvdim=wvdim,weights_descend=False):\n",
    "    if weights_descend:\n",
    "        weights = desc_weights(len(wordlist))\n",
    "    else:\n",
    "        weights = [1 for _ in wordlist]\n",
    "    l = 0\n",
    "    wv = np.zeros((wvdim,))\n",
    "    for word,weight in zip(wordlist,weights):\n",
    "        if word in vocab.keys():\n",
    "            wv += wvmodel[word]*weight\n",
    "            l += 1\n",
    "        else:\n",
    "            split_words = jieba.lcut(word)\n",
    "            split_weight = weight/len(split_words)\n",
    "            for each in split_words:\n",
    "                try:\n",
    "                    wv += wvmodel[each]*split_weight\n",
    "                    l += 1\n",
    "                except:\n",
    "                    print('* Warning：Word [',each,'] not in vocab!')\n",
    "    return (wv/l).reshape(1,wvdim)\n",
    "\n",
    "\"\"\"\n",
    "方法一(Baseline)：Simple AvgWV Similarity\n",
    "对所有词语，进行词向量平均，然后计算cos相似度。\n",
    "注：词典中没有的词，经过jieba分词后，再录入。\n",
    "\"\"\"\n",
    "\n",
    "def AvgWvSim(dic1,dic2):\n",
    "    words1 = []\n",
    "    words2 = []\n",
    "    for li in dic1.values():\n",
    "        words1 += li\n",
    "    for li in dic2.values():\n",
    "        words2 += li\n",
    "        \n",
    "    wv1 = Wordlist_Wv(words1)\n",
    "    wv2 = Wordlist_Wv(words2)\n",
    "\n",
    "    return cosine_similarity(wv1,wv2)[0][0]\n",
    "\n",
    "print(\"JD1与CV1的匹配得分：\",AvgWvSim(JD1_dic,CV1_dic))\n",
    "\n",
    "\"\"\"\n",
    "方法二：Focused-AvgW2V\n",
    "对应的标签进行相似度计算，然后再按照对不同的标签的权重进行加权平均，得到总分。\n",
    "（相当于添加了sentence-level attention）\n",
    "\"\"\"\n",
    "tag_weights = {'行业':0.1,'学历':0.25,'技能':0.3,'业务':0.35}\n",
    "def FocusedAvgWvSim(dic1,dic2,tag_weights=tag_weights,weights1_desc=False,weights2_desc=False):\n",
    "    total_score = 0\n",
    "    for cate in dic1:\n",
    "        wv1 = Wordlist_Wv(dic1[cate],weights_descend=weights1_desc)\n",
    "        wv2 = Wordlist_Wv(dic2[cate],weights_descend=weights2_desc)\n",
    "        score = cosine_similarity(wv1,wv2)\n",
    "        weighted_score = score*tag_weights[cate]\n",
    "        total_score += weighted_score\n",
    "    return total_score\n",
    "\n",
    "print(\"JD1与CV1的匹配得分：\",FocusedAvgWvSim(JD1_dic,CV1_dic)[0][0])"
   ]
  },
  {
   "cell_type": "code",
   "execution_count": null,
   "metadata": {},
   "outputs": [],
   "source": [
    "\n"
   ]
  }
 ],
 "metadata": {
  "kernelspec": {
   "display_name": "Python 3",
   "language": "python",
   "name": "python3"
  },
  "language_info": {
   "codemirror_mode": {
    "name": "ipython",
    "version": 3
   },
   "file_extension": ".py",
   "mimetype": "text/x-python",
   "name": "python",
   "nbconvert_exporter": "python",
   "pygments_lexer": "ipython3",
   "version": "3.6.3"
  }
 },
 "nbformat": 4,
 "nbformat_minor": 2
}
