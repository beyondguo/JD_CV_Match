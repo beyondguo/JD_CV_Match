{
 "cells": [
  {
   "cell_type": "code",
   "execution_count": 1,
   "metadata": {},
   "outputs": [
    {
     "name": "stderr",
     "output_type": "stream",
     "text": [
      "C:\\Python35\\lib\\site-packages\\gensim\\utils.py:860: UserWarning: detected Windows; aliasing chunkize to chunkize_serial\n",
      "  warnings.warn(\"detected Windows; aliasing chunkize to chunkize_serial\")\n"
     ]
    }
   ],
   "source": [
    "from snownlp import SnowNLP\n",
    "from gensim.models import Word2Vec\n",
    "import jieba\n",
    "import time\n",
    "import Cython"
   ]
  },
  {
   "cell_type": "code",
   "execution_count": 7,
   "metadata": {},
   "outputs": [
    {
     "name": "stdout",
     "output_type": "stream",
     "text": [
      "文章字数： 365625530\n",
      "文章句子数： 21613749\n"
     ]
    }
   ],
   "source": [
    "file = open(\"C:/Users/Administrator/Desktop/wiki+meitanbaidu.txt\",encoding='utf-8')\n",
    "text = file.read()\n",
    "print('文章字数：',len(text))\n",
    "text = SnowNLP(text)\n",
    "ss = text.sentences\n",
    "print('文章句子数：',len(ss))"
   ]
  },
  {
   "cell_type": "code",
   "execution_count": 8,
   "metadata": {},
   "outputs": [
    {
     "name": "stderr",
     "output_type": "stream",
     "text": [
      "Building prefix dict from the default dictionary ...\n",
      "Loading model from cache C:\\Users\\ADMINI~1\\AppData\\Local\\Temp\\1\\jieba.cache\n",
      "Loading model cost 1.109 seconds.\n",
      "Prefix dict has been built succesfully.\n"
     ]
    },
    {
     "name": "stdout",
     "output_type": "stream",
     "text": [
      "21613749\n",
      "[['\\ufeff', '数学', '\\t', '数学', '是', '利用', '符号语言', '研究', '数量', '、', '结构', '、', '变化', '以及', '空间', '等', '概念', '的', '一门', '学科'], ['从', '某种', '角度看', '属于', '形式', '科学', '的', '一种'], ['数学', '透过', '抽象化', '和', '逻辑推理', '的', '使用']]\n"
     ]
    }
   ],
   "source": [
    "split_sen = []\n",
    "for each in ss:\n",
    "    split_sen.append(jieba.lcut(each))\n",
    "print(len(split_sen))\n",
    "print(split_sen[0:3])"
   ]
  },
  {
   "cell_type": "code",
   "execution_count": 12,
   "metadata": {},
   "outputs": [
    {
     "name": "stdout",
     "output_type": "stream",
     "text": [
      "训练模型用时：4707943.279027939ms.\n",
      "训练模型用时：3048046.3383197784ms.\n"
     ]
    }
   ],
   "source": [
    "#skip-gram:\n",
    "t1 = time.time()\n",
    "model_sg = Word2Vec(split_sen,min_count=3,window=5,size=100,sg=1)\n",
    "t2 = time.time()\n",
    "print('训练模型用时：'+str(1000*(t2-t1))+'ms.')\n",
    "#CBOW:\n",
    "t3 = time.time()\n",
    "model_cb = Word2Vec(split_sen,min_count=3,window=5,size=100,sg=0)\n",
    "t4 = time.time()\n",
    "print('训练模型用时：'+str(1000*(t4-t3))+'ms.')"
   ]
  },
  {
   "cell_type": "code",
   "execution_count": 18,
   "metadata": {},
   "outputs": [
    {
     "name": "stdout",
     "output_type": "stream",
     "text": [
      "训练模型用时：3921878.3185482025ms.\n"
     ]
    }
   ],
   "source": [
    "# O M G, it was really slow!!!\n",
    "# try 4 workers:\n",
    "#skip-gram:\n",
    "t1 = time.time()\n",
    "model_sg = Word2Vec(split_sen,min_count=3,window=5,size=100,sg=1,workers=4)\n",
    "t2 = time.time()\n",
    "print('训练模型用时：'+str(1000*(t2-t1))+'ms.')"
   ]
  },
  {
   "cell_type": "code",
   "execution_count": 28,
   "metadata": {
    "collapsed": true
   },
   "outputs": [],
   "source": [
    "model_sg.save(\"C:/Users/Administrator/Desktop/model_sg_min3_win5_size100\")\n",
    "model_cb.save(\"C:/Users/Administrator/Desktop/model_cb_min3_win5_size100\")"
   ]
  },
  {
   "cell_type": "code",
   "execution_count": 3,
   "metadata": {
    "collapsed": true
   },
   "outputs": [],
   "source": [
    "model = Word2Vec.load(\"C:/Users/Administrator/Desktop/Word2Vec models-BGY/model_cb_min3_win5_size100\")"
   ]
  },
  {
   "cell_type": "code",
   "execution_count": 20,
   "metadata": {},
   "outputs": [
    {
     "name": "stdout",
     "output_type": "stream",
     "text": [
      "【百度】的近义词：\n",
      "('腾讯', 0.8259470462799072)\n",
      "('网易', 0.8188455700874329)\n",
      "('谷歌', 0.7960240840911865)\n",
      "('新浪', 0.7862110137939453)\n",
      "('QQ', 0.7760785818099976)\n",
      "('Google', 0.7669340968132019)\n",
      "('AcFun', 0.7572116851806641)\n",
      "('搜狐', 0.7478760480880737)\n",
      "('迅雷', 0.742740273475647)\n",
      "('微博', 0.7417153716087341)\n",
      "---------------\n",
      "【乙烯】的近义词：\n",
      "('乙炔', 0.8989545106887817)\n",
      "('苯乙烯', 0.8988829255104065)\n",
      "('二甲苯', 0.8985713720321655)\n",
      "('乙二醇', 0.8928319811820984)\n",
      "('乙烯基', 0.8923167586326599)\n",
      "('苯酚', 0.888486385345459)\n",
      "('钯', 0.8877419233322144)\n",
      "('甘油', 0.8868629932403564)\n",
      "('甲醇', 0.8866572380065918)\n",
      "('丙烯', 0.8854176998138428)\n",
      "---------------\n",
      "【iPad】的近义词：\n",
      "('iPhone', 0.9374064803123474)\n",
      "('iPod', 0.8834086060523987)\n",
      "('iOS', 0.8541004657745361)\n",
      "('Android', 0.825466513633728)\n",
      "('PS3', 0.8186632990837097)\n",
      "('Apple', 0.8162788152694702)\n",
      "('Macintosh', 0.8149465918540955)\n",
      "('Chrome', 0.808621346950531)\n",
      "('Firefox', 0.8055670261383057)\n",
      "('iMac', 0.8051225543022156)\n",
      "---------------\n",
      "【供应链】的近义词：\n",
      "('物流', 0.7823137044906616)\n",
      "('市场营销', 0.7391980290412903)\n",
      "('客户关系', 0.7352133393287659)\n",
      "('业务流程', 0.725396990776062)\n",
      "('售后服务', 0.7167249321937561)\n",
      "('风险管理', 0.7138625383377075)\n",
      "('电子商务', 0.7051136493682861)\n",
      "('产业链', 0.7018337249755859)\n",
      "('业务', 0.7010848522186279)\n",
      "('信息系统', 0.6991073489189148)\n",
      "---------------\n",
      "【任天堂】的近义词：\n",
      "('游戏机', 0.7762647867202759)\n",
      "('Wii', 0.7719202041625977)\n",
      "('世嘉', 0.7703657150268555)\n",
      "('3DS', 0.7656863927841187)\n",
      "('PS3', 0.7451740503311157)\n",
      "('卡普空', 0.7407288551330566)\n",
      "('SEGA', 0.7347543239593506)\n",
      "('PS2', 0.7331879138946533)\n",
      "('PSP', 0.7326123714447021)\n",
      "('科乐美', 0.7239670753479004)\n",
      "---------------\n",
      "【视觉】的近义词：\n",
      "('听觉', 0.7780237197875977)\n",
      "('感官', 0.7682012319564819)\n",
      "('视觉效果', 0.7596346139907837)\n",
      "('图像', 0.7562707662582397)\n",
      "('影像', 0.7339191436767578)\n",
      "('音效', 0.6991942524909973)\n",
      "('美感', 0.6891247034072876)\n",
      "('声效', 0.6843030452728271)\n",
      "('动态', 0.6808087825775146)\n",
      "('光影', 0.6719076633453369)\n",
      "---------------\n",
      "【武汉】的近义词：\n",
      "('重庆', 0.8544996976852417)\n",
      "('上海', 0.8483288288116455)\n",
      "('广州', 0.8339738249778748)\n",
      "('南京', 0.8313741087913513)\n",
      "('成都', 0.8257152438163757)\n",
      "('济南', 0.8246126174926758)\n",
      "('沈阳', 0.8187524676322937)\n",
      "('长沙', 0.8166059851646423)\n",
      "('北京', 0.8145778179168701)\n",
      "('郑州', 0.8113574981689453)\n",
      "---------------\n"
     ]
    }
   ],
   "source": [
    "mylist = ['百度','乙烯','iPad','供应链','任天堂','视觉','武汉']\n",
    "for each in mylist:\n",
    "    print(\"【\"+each+\"】\"+\"的近义词：\")\n",
    "    for foo in model.wv.most_similar(each):\n",
    "        print(foo)\n",
    "    print('---------------')"
   ]
  },
  {
   "cell_type": "code",
   "execution_count": 19,
   "metadata": {},
   "outputs": [
    {
     "name": "stdout",
     "output_type": "stream",
     "text": [
      "娱乐\n",
      "济南\n"
     ]
    }
   ],
   "source": [
    "print(model.wv.doesnt_match(['学习','娱乐','讲座','看书']))\n",
    "print(model.wv.doesnt_match(['湖北','贵州','江西','河北','济南']))"
   ]
  },
  {
   "cell_type": "code",
   "execution_count": 2,
   "metadata": {},
   "outputs": [
    {
     "name": "stdout",
     "output_type": "stream",
     "text": [
      "导入模型用时： 7.657438039779663 s\n"
     ]
    }
   ],
   "source": [
    "t1 = time.time()\n",
    "model2 = Word2Vec.load(\"C:/Users/Administrator/Desktop/Word2Vec models-BGY/model_cb_min5_win5_size200\")\n",
    "t2 = time.time()\n",
    "print(\"导入模型用时：\",t2-t1,\"s\")"
   ]
  },
  {
   "cell_type": "code",
   "execution_count": 15,
   "metadata": {},
   "outputs": [
    {
     "data": {
      "text/plain": [
       "[('预付卡', 0.6923542022705078),\n",
       " ('预付费', 0.6867733001708984),\n",
       " ('充值卡', 0.6859069466590881),\n",
       " ('预付', 0.6606534719467163),\n",
       " ('转账', 0.6542222499847412),\n",
       " ('提现', 0.6516941785812378),\n",
       " ('充值', 0.6392796635627747),\n",
       " ('后付费', 0.635653555393219),\n",
       " ('校园卡', 0.6349145174026489),\n",
       " ('签帐', 0.634461522102356),\n",
       " ('nanaco', 0.6271225214004517),\n",
       " ('票款', 0.6248359680175781),\n",
       " ('收款', 0.6242783665657043),\n",
       " ('储值', 0.6213349103927612),\n",
       " ('预缴', 0.6205817461013794),\n",
       " ('代收', 0.6203181743621826),\n",
       " ('网上银行', 0.6182812452316284),\n",
       " ('扣费', 0.6168804168701172),\n",
       " ('EZRider', 0.6167575716972351),\n",
       " ('包月', 0.6163589954376221),\n",
       " ('许可费', 0.6092720627784729),\n",
       " ('押金', 0.6092467308044434),\n",
       " ('网上支付', 0.6081848740577698),\n",
       " ('换购', 0.6021139621734619),\n",
       " ('payWave', 0.6007891297340393),\n",
       " ('工本费', 0.6004140377044678),\n",
       " ('羊城通', 0.5999176502227783),\n",
       " ('电话费', 0.5967993140220642),\n",
       " ('服务费', 0.5958939790725708),\n",
       " ('直饮水', 0.5954030156135559)]"
      ]
     },
     "execution_count": 15,
     "metadata": {},
     "output_type": "execute_result"
    }
   ],
   "source": [
    "model2.most_similar(\"话费\",topn=30)"
   ]
  },
  {
   "cell_type": "code",
   "execution_count": null,
   "metadata": {
    "collapsed": true
   },
   "outputs": [],
   "source": []
  }
 ],
 "metadata": {
  "kernelspec": {
   "display_name": "Python 3",
   "language": "python",
   "name": "python3"
  },
  "language_info": {
   "codemirror_mode": {
    "name": "ipython",
    "version": 3
   },
   "file_extension": ".py",
   "mimetype": "text/x-python",
   "name": "python",
   "nbconvert_exporter": "python",
   "pygments_lexer": "ipython3",
   "version": "3.6.3"
  }
 },
 "nbformat": 4,
 "nbformat_minor": 1
}
