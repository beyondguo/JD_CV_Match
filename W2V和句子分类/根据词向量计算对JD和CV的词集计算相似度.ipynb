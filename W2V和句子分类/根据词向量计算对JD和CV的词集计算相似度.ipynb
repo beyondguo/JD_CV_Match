{
 "cells": [
  {
   "cell_type": "code",
   "execution_count": 2,
   "metadata": {},
   "outputs": [],
   "source": [
    "from gensim.models import Word2Vec\n",
    "import numpy as np\n",
    "wvmodel = Word2Vec.load('../../big_things/models/wikibaikeWV250/wikibaikewv250')"
   ]
  },
  {
   "cell_type": "code",
   "execution_count": 6,
   "metadata": {},
   "outputs": [],
   "source": [
    "vocab = wvmodel.wv.vocab\n",
    "def similarity(w1,w2):\n",
    "    if w1 in vocab:\n",
    "        if w2 in vocab:\n",
    "            return wvmodel.wv.similarity(w1,w2)\n",
    "        else:\n",
    "            print(\"*\"+w2+\"*\",\"not in vocab.╮(╯﹏╰）╭\")\n",
    "    else:\n",
    "        print(\"*\"+w1+\"*\",\"not in vocab.╮(╯﹏╰）╭\")"
   ]
  },
  {
   "cell_type": "code",
   "execution_count": 51,
   "metadata": {
    "collapsed": true
   },
   "outputs": [],
   "source": [
    "group1 = [\"围棋\",\"游戏\",\"象棋\",\"休闲\"]\n",
    "group2 = [\"娱乐\",\"跳棋\",\"棋牌\",\"有趣\"]\n",
    "weight1 = [1,1,1,1]\n",
    "weight2 = [1,1,1,1]\n",
    "group3 = [\"管理\",\"经济\",\"会计\",\"政策\"]\n",
    "group4 = [\"风险\",\"团队\",\"财经\",\"策略\"]"
   ]
  },
  {
   "cell_type": "code",
   "execution_count": 52,
   "metadata": {
    "collapsed": true
   },
   "outputs": [],
   "source": [
    "def weightedGroupSimilarity(group1,group2,weight1,weight2):\n",
    "    total_score = 0\n",
    "    len1 = len(group1)\n",
    "    len2 = len(group2)\n",
    "    for i in range(len1):\n",
    "        for j in range(len2):\n",
    "            score = similarity(group1[i],group2[j])\n",
    "            weighted_score = weight1[i] * weight2[j] * score\n",
    "            total_score += weighted_score\n",
    "    return total_score/(len1+len2)"
   ]
  },
  {
   "cell_type": "code",
   "execution_count": 53,
   "metadata": {},
   "outputs": [
    {
     "data": {
      "text/plain": [
       "0.792984956707173"
      ]
     },
     "execution_count": 53,
     "metadata": {},
     "output_type": "execute_result"
    }
   ],
   "source": [
    "weightedGroupSimilarity(group1,group2,weight1,weight2)"
   ]
  },
  {
   "cell_type": "code",
   "execution_count": 54,
   "metadata": {},
   "outputs": [
    {
     "data": {
      "text/plain": [
       "0.4316678416409623"
      ]
     },
     "execution_count": 54,
     "metadata": {},
     "output_type": "execute_result"
    }
   ],
   "source": [
    "weightedGroupSimilarity(group1,group3,weight1,weight2)"
   ]
  },
  {
   "cell_type": "code",
   "execution_count": 55,
   "metadata": {},
   "outputs": [
    {
     "data": {
      "text/plain": [
       "0.6819562149029103"
      ]
     },
     "execution_count": 55,
     "metadata": {},
     "output_type": "execute_result"
    }
   ],
   "source": [
    "weightedGroupSimilarity(group3,group4,weight1,weight2)"
   ]
  },
  {
   "cell_type": "code",
   "execution_count": 7,
   "metadata": {},
   "outputs": [
    {
     "name": "stdout",
     "output_type": "stream",
     "text": [
      "*asdfd* not in vocab.╮(╯﹏╰）╭\n"
     ]
    }
   ],
   "source": [
    "similarity('asdfd','固话')"
   ]
  },
  {
   "cell_type": "code",
   "execution_count": null,
   "metadata": {
    "collapsed": true
   },
   "outputs": [],
   "source": []
  }
 ],
 "metadata": {
  "kernelspec": {
   "display_name": "Python 3",
   "language": "python",
   "name": "python3"
  },
  "language_info": {
   "codemirror_mode": {
    "name": "ipython",
    "version": 3
   },
   "file_extension": ".py",
   "mimetype": "text/x-python",
   "name": "python",
   "nbconvert_exporter": "python",
   "pygments_lexer": "ipython3",
   "version": "3.6.3"
  }
 },
 "nbformat": 4,
 "nbformat_minor": 2
}
