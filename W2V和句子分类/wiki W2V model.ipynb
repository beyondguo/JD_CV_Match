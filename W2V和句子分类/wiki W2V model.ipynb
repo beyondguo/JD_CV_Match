{
 "cells": [
  {
   "cell_type": "code",
   "execution_count": 1,
   "metadata": {},
   "outputs": [
    {
     "name": "stderr",
     "output_type": "stream",
     "text": [
      "C:\\Python35\\lib\\site-packages\\gensim\\utils.py:860: UserWarning: detected Windows; aliasing chunkize to chunkize_serial\n",
      "  warnings.warn(\"detected Windows; aliasing chunkize to chunkize_serial\")\n"
     ]
    },
    {
     "name": "stdout",
     "output_type": "stream",
     "text": [
      "文章字数： 365625530\n",
      "分句耗时：977.8049273490906s.\n",
      "文章句子数： 21613749\n"
     ]
    },
    {
     "ename": "OSError",
     "evalue": "[Errno 28] No space left on device",
     "output_type": "error",
     "traceback": [
      "\u001b[1;31m---------------------------------------------------------------------------\u001b[0m",
      "\u001b[1;31mOSError\u001b[0m                                   Traceback (most recent call last)",
      "\u001b[1;32m<ipython-input-1-e8e3bf383f88>\u001b[0m in \u001b[0;36m<module>\u001b[1;34m()\u001b[0m\n\u001b[0;32m     21\u001b[0m \u001b[0msentence_file\u001b[0m \u001b[1;33m=\u001b[0m \u001b[0mopen\u001b[0m\u001b[1;33m(\u001b[0m\u001b[1;34m\"C:/Users/Administrator/Desktop/wiki_sentences.txt\"\u001b[0m\u001b[1;33m,\u001b[0m\u001b[1;34m'a'\u001b[0m\u001b[1;33m,\u001b[0m\u001b[0mencoding\u001b[0m\u001b[1;33m=\u001b[0m\u001b[1;34m'utf-8'\u001b[0m\u001b[1;33m)\u001b[0m\u001b[1;33m\u001b[0m\u001b[0m\n\u001b[0;32m     22\u001b[0m \u001b[1;32mfor\u001b[0m \u001b[0meach\u001b[0m \u001b[1;32min\u001b[0m \u001b[0mss\u001b[0m\u001b[1;33m:\u001b[0m\u001b[1;33m\u001b[0m\u001b[0m\n\u001b[1;32m---> 23\u001b[1;33m     \u001b[0msentence_file\u001b[0m\u001b[1;33m.\u001b[0m\u001b[0mwrite\u001b[0m\u001b[1;33m(\u001b[0m\u001b[0meach\u001b[0m\u001b[1;33m)\u001b[0m\u001b[1;33m\u001b[0m\u001b[0m\n\u001b[0m\u001b[0;32m     24\u001b[0m \u001b[0msentence_file\u001b[0m\u001b[1;33m.\u001b[0m\u001b[0mclose\u001b[0m\u001b[1;33m(\u001b[0m\u001b[1;33m)\u001b[0m\u001b[1;33m\u001b[0m\u001b[0m\n\u001b[0;32m     25\u001b[0m \u001b[1;31m# 句子分词，生成句子序列的列表：\u001b[0m\u001b[1;33m\u001b[0m\u001b[1;33m\u001b[0m\u001b[0m\n",
      "\u001b[1;31mOSError\u001b[0m: [Errno 28] No space left on device"
     ]
    }
   ],
   "source": [
    "from snownlp import SnowNLP\n",
    "from gensim.models import Word2Vec\n",
    "import jieba\n",
    "import time\n",
    "import Cython\n",
    "import logging\n",
    "\n",
    "logging.basicConfig(format='%(asctime)s : %(levelname)s : %(message)s', level=logging.INFO)\n",
    "\n",
    "# 导入wiki百科语料库，分句、分词，最后保存成词序列的形式：\n",
    "file = open(\"C:/Users/Administrator/Desktop/wiki+meitanbaidu.txt\",encoding='utf-8')\n",
    "text = file.read()\n",
    "print('文章字数：',len(text))\n",
    "t1 = time.time()\n",
    "text = SnowNLP(text)\n",
    "ss = text.sentences\n",
    "t2 = time.time()\n",
    "print('分句耗时：'+str((t2-t1))+'s.')\n",
    "print('文章句子数：',len(ss))\n",
    "# 把分好的句子写入TXT，以备下次使用：\n",
    "sentence_file = open(\"C:/Users/Administrator/Desktop/wiki_sentences.txt\",'a',encoding='utf-8')\n",
    "for each in ss:\n",
    "    sentence_file.write(each)\n",
    "sentence_file.close()\n",
    "# 句子分词，生成句子序列的列表：\n",
    "split_sen = []\n",
    "t1 = time.time()\n",
    "for each in ss:\n",
    "    split_sen.append(jieba.lcut(each))\n",
    "t2 = time.time()\n",
    "print('分词耗时：'+str((t2-t1))+'s.')\n",
    "print(len(split_sen))\n",
    "print(\"看看前三个：\\n\",split_sen[0:3])"
   ]
  },
  {
   "cell_type": "code",
   "execution_count": null,
   "metadata": {},
   "outputs": [],
   "source": [
    "#训练并保存模型：\n",
    "# workers=16,试试多种size of feathers（100,150,200,250,300）\n",
    "sizes = [250,300]\n",
    "models = {}\n",
    "for size in sizes:\n",
    "    #skip-gram:\n",
    "    t1 = time.time()\n",
    "    models[\"model_sg_min5_win5_size\"+str(size)] = Word2Vec(split_sen,min_count=5,window=5,size=size,sg=1,workers=16)\n",
    "    models[\"model_sg_min5_win5_size\"+str(size)].save('C:/Users/Administrator/Desktop/Word2Vec models-BGY/model_sg_min5_win5_size'+str(size))\n",
    "    t2 = time.time()\n",
    "    print(\"模型model_sg_min5_win5_size\"+str(size)+'训练耗时：\\n'+str((t2-t1))+'s.')\n",
    "    #CBOW:\n",
    "    t1 = time.time()\n",
    "    models[\"model_cb_min5_win5_size\"+str(size)] = Word2Vec(split_sen,min_count=5,window=5,size=size,sg=0,workers=16)\n",
    "    models[\"model_cb_min5_win5_size\"+str(size)].save('C:/Users/Administrator/Desktop/Word2Vec models-BGY/model_cb_min5_win5_size'+str(size))\n",
    "    t2 = time.time()\n",
    "    print(\"模型model_cb_min5_win5_size\"+str(size)+'训练耗时：\\n'+str((t2-t1))+'s.')"
   ]
  },
  {
   "cell_type": "code",
   "execution_count": null,
   "metadata": {},
   "outputs": [],
   "source": [
    "\n",
    "mylist = ['百度','乙烯','iPad','供应链','任天堂','视觉','武汉','航天','深度学习']\n",
    "for each in mylist:\n",
    "    print(\"【\"+each+\"】\"+\"的近义词：\")\n",
    "    for foo in models['model_sg_min5_win5_size300'].wv.most_similar(each):\n",
    "        print(foo)\n",
    "    print('---------------')\n"
   ]
  },
  {
   "cell_type": "code",
   "execution_count": null,
   "metadata": {},
   "outputs": [],
   "source": [
    "\n",
    "mylist = ['手机','计算机']\n",
    "for each in mylist:\n",
    "    print(\"【\"+each+\"】\"+\"的近义词：\")\n",
    "    for foo in models['model_sg_min5_win5_size100'].wv.most_similar(each):\n",
    "        print(foo)\n",
    "    print('---------------')\n"
   ]
  },
  {
   "cell_type": "code",
   "execution_count": null,
   "metadata": {
    "collapsed": true
   },
   "outputs": [],
   "source": [
    "models['model_sg_min5_win5_size100'].wv.most_similar"
   ]
  },
  {
   "cell_type": "code",
   "execution_count": null,
   "metadata": {
    "collapsed": true
   },
   "outputs": [],
   "source": []
  }
 ],
 "metadata": {
  "kernelspec": {
   "display_name": "Python 3",
   "language": "python",
   "name": "python3"
  },
  "language_info": {
   "codemirror_mode": {
    "name": "ipython",
    "version": 3
   },
   "file_extension": ".py",
   "mimetype": "text/x-python",
   "name": "python",
   "nbconvert_exporter": "python",
   "pygments_lexer": "ipython3",
   "version": "3.6.3"
  }
 },
 "nbformat": 4,
 "nbformat_minor": 1
}
