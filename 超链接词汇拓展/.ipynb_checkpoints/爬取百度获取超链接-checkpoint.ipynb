{
 "cells": [
  {
   "cell_type": "code",
   "execution_count": 1,
   "metadata": {
    "collapsed": true
   },
   "outputs": [],
   "source": [
    "import requests\n",
    "from bs4 import BeautifulSoup\n",
    "import jieba\n",
    "from sklearn.metrics.pairwise import cosine_similarity\n",
    "import numpy as np"
   ]
  },
  {
   "cell_type": "code",
   "execution_count": 2,
   "metadata": {},
   "outputs": [
    {
     "name": "stderr",
     "output_type": "stream",
     "text": [
      "E:\\learningsoft\\anadonda\\lib\\site-packages\\gensim\\utils.py:1197: UserWarning: detected Windows; aliasing chunkize to chunkize_serial\n",
      "  warnings.warn(\"detected Windows; aliasing chunkize to chunkize_serial\")\n"
     ]
    }
   ],
   "source": [
    "from gensim.models import Word2Vec\n",
    "wv = Word2Vec.load(\"F:/Jupyter/--NLP/顺丰项目/W2V和句子分类/models/wikibaikeWV250/wikibaikewv250\")"
   ]
  },
  {
   "cell_type": "code",
   "execution_count": 8,
   "metadata": {
    "collapsed": true
   },
   "outputs": [],
   "source": [
    "vocab = wv.wv.vocab\n",
    "def getLinkWordsFromBaike(word):\n",
    "    url = \"https://baike.baidu.com/item/%s\"%word\n",
    "    headers = {\"User-Agent\":\"Mozilla/5.0 (Windows NT 10.0; …) Gecko/20100101 Firefox/62.0\"}\n",
    "    html = requests.get(url=url,headers=headers)\n",
    "    html.encoding = 'utf-8'\n",
    "    html = html.text\n",
    "    soup = BeautifulSoup(html, 'html.parser')\n",
    "    hlinks = soup.select(\".content-wrapper .content .para a\")\n",
    "    linkwords = list(set([x.text.strip() for x in hlinks]))\n",
    "    return linkwords\n",
    "\n",
    "def getBestWords(word,linkwords):\n",
    "    best_words = []\n",
    "    out_words = []\n",
    "    if word in vocab.keys():\n",
    "        orig_vec = wv[word]\n",
    "    else:\n",
    "        split_words = jieba.lcut(word)\n",
    "        split_vecs = [wv[x] for x in split_words]\n",
    "        orig_vec = sum(split_vecs)/len(split_words)\n",
    "    for x in linkwords:\n",
    "#         print(\"linkword:\",x)\n",
    "        if x not in vocab.keys():\n",
    "            x_words = jieba.lcut(x)\n",
    "            x_v = np.zeros((250))\n",
    "            n = 0\n",
    "            for word in x_words:\n",
    "                if word in vocab.keys() and word!='':\n",
    "                    n += 1\n",
    "                    word_v = wv[word]\n",
    "                    x_v = x_v+word_v\n",
    "            if n>0:\n",
    "                x_v = x_v/n\n",
    "        else:\n",
    "            x_v = wv[x]\n",
    "        orig_vec = orig_vec.reshape(1,250)\n",
    "        x_v = x_v.reshape(1,250)\n",
    "        score = cosine_similarity(orig_vec,x_v)\n",
    "#         print(\"score:\",score)\n",
    "        if score>0.3:\n",
    "            best_words.append(x)\n",
    "        else:\n",
    "            out_words.append(x)\n",
    "    return [best_words,out_words]"
   ]
  },
  {
   "cell_type": "code",
   "execution_count": 9,
   "metadata": {},
   "outputs": [
    {
     "name": "stdout",
     "output_type": "stream",
     "text": [
      "Linkwords:-----------\n",
      " ['', '研发', '需求分析', '组织处理', 'Todolist', '产品生命周期', '价格', '负责人', 'Excel', '运营', '复杂决策', '用户价值', '市场定位', '培训课程', '顾客细分', 'OEM', '渠道', '面试官', '项目基线', '概念设计', '沟通', 'Outlook', '竞品分析', '促销', '卓越产品经理的六种变身', 'Mockplus', 'Axure', '文档', 'Photoshop', '市场份额', '企业', '市场细分', '宝洁', 'Project', '产品经理的第一本书', '销售', '产品管理', '产品开发', '公关', '市场', '象牙塔', '洞察力', '时间管理', '品牌经理', '产品', '项目组', '创新能力', '营销', '虚拟团队', '测试', '周转率', 'fireworks', '头脑风暴', '赛艇运动', '成本结构', '领导能力']\n",
      "Bestwords:-----------\n",
      " ['研发', '需求分析', '组织处理', '产品生命周期', '价格', '负责人', 'Excel', '运营', '复杂决策', '用户价值', '市场定位', '培训课程', '顾客细分', 'OEM', '面试官', '项目基线', '概念设计', '沟通', '竞品分析', '促销', '卓越产品经理的六种变身', '文档', '市场份额', '企业', '市场细分', '宝洁', 'Project', '产品经理的第一本书', '销售', '产品管理', '产品开发', '公关', '市场', '象牙塔', '洞察力', '时间管理', '品牌经理', '产品', '项目组', '创新能力', '营销', '虚拟团队', '测试', '周转率', '头脑风暴', '赛艇运动', '成本结构', '领导能力']\n",
      "Outwords:-----------\n",
      " ['', 'Todolist', '渠道', 'Outlook', 'Mockplus', 'Axure', 'Photoshop', 'fireworks']\n"
     ]
    },
    {
     "name": "stderr",
     "output_type": "stream",
     "text": [
      "E:\\learningsoft\\anadonda\\lib\\site-packages\\ipykernel_launcher.py:17: DeprecationWarning: Call to deprecated `__getitem__` (Method will be removed in 4.0.0, use self.wv.__getitem__() instead).\n",
      "E:\\learningsoft\\anadonda\\lib\\site-packages\\ipykernel_launcher.py:36: DeprecationWarning: Call to deprecated `__getitem__` (Method will be removed in 4.0.0, use self.wv.__getitem__() instead).\n",
      "E:\\learningsoft\\anadonda\\lib\\site-packages\\ipykernel_launcher.py:31: DeprecationWarning: Call to deprecated `__getitem__` (Method will be removed in 4.0.0, use self.wv.__getitem__() instead).\n"
     ]
    }
   ],
   "source": [
    "word = \"产品经理\"\n",
    "linkwords = getLinkWordsFromBaike(word)\n",
    "print(\"Linkwords:-----------\\n\",linkwords)\n",
    "bestwords = getBestWords(word,linkwords)\n",
    "print(\"Bestwords:-----------\\n\",bestwords[0])\n",
    "print(\"Outwords:-----------\\n\",bestwords[1])"
   ]
  },
  {
   "cell_type": "code",
   "execution_count": 41,
   "metadata": {},
   "outputs": [
    {
     "name": "stdout",
     "output_type": "stream",
     "text": [
      "3\n"
     ]
    },
    {
     "data": {
      "text/plain": [
       "dict_values([100, 200, 300])"
      ]
     },
     "execution_count": 41,
     "metadata": {},
     "output_type": "execute_result"
    }
   ],
   "source": [
    "dic = {\"a\":100,\"b\":200,\"c\":300}\n",
    "print(len(dic.keys()))\n",
    "dic.values()"
   ]
  },
  {
   "cell_type": "code",
   "execution_count": 8,
   "metadata": {},
   "outputs": [
    {
     "name": "stdout",
     "output_type": "stream",
     "text": [
      "[5, 6, 7, 8]\n"
     ]
    }
   ],
   "source": [
    "a = [1,2,3,4,5,6,7,8]\n",
    "b = [x for x in a if x>4]\n",
    "print(b)"
   ]
  },
  {
   "cell_type": "code",
   "execution_count": 9,
   "metadata": {},
   "outputs": [
    {
     "data": {
      "text/plain": [
       "36"
      ]
     },
     "execution_count": 9,
     "metadata": {},
     "output_type": "execute_result"
    }
   ],
   "source": [
    "sum(a)"
   ]
  },
  {
   "cell_type": "code",
   "execution_count": null,
   "metadata": {
    "collapsed": true
   },
   "outputs": [],
   "source": []
  }
 ],
 "metadata": {
  "kernelspec": {
   "display_name": "Python 3",
   "language": "python",
   "name": "python3"
  },
  "language_info": {
   "codemirror_mode": {
    "name": "ipython",
    "version": 3
   },
   "file_extension": ".py",
   "mimetype": "text/x-python",
   "name": "python",
   "nbconvert_exporter": "python",
   "pygments_lexer": "ipython3",
   "version": "3.6.3"
  }
 },
 "nbformat": 4,
 "nbformat_minor": 2
}
