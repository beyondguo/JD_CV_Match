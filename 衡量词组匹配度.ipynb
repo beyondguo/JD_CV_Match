{
 "cells": [
  {
   "cell_type": "code",
   "execution_count": 1,
   "metadata": {},
   "outputs": [
    {
     "name": "stderr",
     "output_type": "stream",
     "text": [
      "E:\\learningsoft\\anadonda\\lib\\site-packages\\gensim\\utils.py:1197: UserWarning: detected Windows; aliasing chunkize to chunkize_serial\n",
      "  warnings.warn(\"detected Windows; aliasing chunkize to chunkize_serial\")\n"
     ]
    }
   ],
   "source": [
    "from gensim.models import Word2Vec\n",
    "import numpy as np\n",
    "wvmodel = Word2Vec.load('../big_things/models/wikibaikeWV250/wikibaikewv250')\n",
    "wvdim = 250"
   ]
  },
  {
   "cell_type": "code",
   "execution_count": 11,
   "metadata": {},
   "outputs": [
    {
     "name": "stderr",
     "output_type": "stream",
     "text": [
      "E:\\learningsoft\\anadonda\\lib\\site-packages\\ipykernel_launcher.py:1: DeprecationWarning: Call to deprecated `most_similar` (Method will be removed in 4.0.0, use self.wv.most_similar() instead).\n",
      "  \"\"\"Entry point for launching an IPython kernel.\n"
     ]
    },
    {
     "data": {
      "text/plain": [
       "[('雄激素', 0.8141771554946899),\n",
       " ('催乳素', 0.809292197227478),\n",
       " ('荷尔蒙', 0.7942413091659546),\n",
       " ('促性腺激', 0.7935157418251038),\n",
       " ('雌激素', 0.7930401563644409),\n",
       " ('神经递质', 0.7916024923324585),\n",
       " ('孕激素', 0.790703296661377),\n",
       " ('性激素', 0.7873826026916504),\n",
       " ('皮质激素', 0.7795277833938599),\n",
       " ('孕酮', 0.7776371240615845),\n",
       " ('皮质醇', 0.77471923828125),\n",
       " ('甲状腺', 0.7733747363090515),\n",
       " ('甲状腺素', 0.7732579112052917),\n",
       " ('睾酮', 0.7722375392913818),\n",
       " ('细胞生长', 0.7704721093177795),\n",
       " ('降钙素', 0.7698075771331787),\n",
       " ('乙酰胆碱', 0.7692161798477173),\n",
       " ('黄体素', 0.7682069540023804),\n",
       " ('GnRH', 0.7665923833847046),\n",
       " ('儿茶酚胺', 0.7660119533538818)]"
      ]
     },
     "execution_count": 11,
     "metadata": {},
     "output_type": "execute_result"
    }
   ],
   "source": [
    "wvmodel.most_similar('激素',topn=20)"
   ]
  },
  {
   "cell_type": "code",
   "execution_count": 102,
   "metadata": {},
   "outputs": [],
   "source": [
    "import jieba\n",
    "from sklearn.metrics.pairwise import cosine_similarity\n",
    "vocab = wvmodel.wv.vocab\n",
    "\"\"\"\n",
    "JD和CV的关键词都以字典的方式存储，按照标签分类，假设二者的标签是相同的。\n",
    "\"\"\"\n",
    "JD1_dic = {'行业':['金融'],\\。\n",
    "          '学历':['硕士'],\\\n",
    "          '技能':['Java','Hadoop','Android'],\\\n",
    "          '业务':['系统开发','系统设计','软件开发','数据处理'],\\\n",
    "          }\n",
    "\n",
    "CV1_dic = {'行业':['经济','互联网'],\\\n",
    "          '学历':['本科'],\\\n",
    "          '技能':['Java','Hadoop','C++'],\\\n",
    "          '业务':['编写软件','大数据处理','用户界面设计','软件开发','软件测试'],\\\n",
    "          }\n",
    "CV2_dic = {'行业':['经济','互联网'],\\\n",
    "          '学历':['本科'],\\\n",
    "          '技能':['Hadoop','Android','C++'],\\\n",
    "          '业务':['编写软件','大数据处理','用户界面设计','软件开发','软件测试'],\\\n",
    "          }\n",
    "CV3_dic = {'行业':['能源','石油'],\\\n",
    "          '学历':['硕士'],\\\n",
    "          '技能':['C','C++','Java'],\\\n",
    "          '业务':['项目管理','数据分析','需求发现','编写文档'],\\\n",
    "          }\n",
    "CV4_dic = {'行业':['翻译','语言','外交'],\\\n",
    "          '学历':['硕士'],\\\n",
    "          '技能':['德语','翻译'],\\\n",
    "          '业务':['文献翻译','同声传译','商业谈判'],\\\n",
    "          }\n",
    "# 输入一组数，返回对应的归一化后的结果\n",
    "def softmax(x): \n",
    "    x = np.array(x).reshape(1,len(x))\n",
    "    return np.exp(x)/np.sum(np.exp(x),axis=1)\n",
    "\n",
    "# 给定列表长度，返回递减的权重列表\n",
    "def desc_weights(length): \n",
    "    w = sorted([i for i in range(1,length+1)],reverse=True)\n",
    "    return list(softmax(w)[0])\n",
    "\n",
    "def Wordlist_Wv(wordlist,wvdim=wvdim,weights_descend=False):\n",
    "    if weights_descend:\n",
    "        weights = desc_weights(len(wordlist))\n",
    "    else:\n",
    "        weights = [1 for _ in wordlist]\n",
    "    l = 0\n",
    "    wv = np.zeros((wvdim,))\n",
    "    for word,weight in zip(wordlist,weights):\n",
    "        if word in vocab.keys():\n",
    "            wv += wvmodel[word]*weight\n",
    "            l += 1\n",
    "        else:\n",
    "            split_words = jieba.lcut(word)\n",
    "            split_weight = weight/len(split_words)\n",
    "            for each in split_words:\n",
    "                try:\n",
    "                    wv += wvmodel[each]*split_weight\n",
    "                    l += 1\n",
    "                except:\n",
    "                    print('* Warning：Word [',each,'] not in vocab!')\n",
    "    return (wv/l).reshape(1,wvdim)"
   ]
  },
  {
   "cell_type": "code",
   "execution_count": null,
   "metadata": {},
   "outputs": [],
   "source": []
  },
  {
   "cell_type": "code",
   "execution_count": 103,
   "metadata": {},
   "outputs": [
    {
     "name": "stdout",
     "output_type": "stream",
     "text": [
      "JD1与CV1的匹配得分： 0.934870676153894\n",
      "JD1与CV2的匹配得分： 0.9439874757803037\n",
      "JD1与CV3的匹配得分： 0.8967426977192904\n",
      "JD1与CV4的匹配得分： 0.668335534274794\n"
     ]
    },
    {
     "name": "stderr",
     "output_type": "stream",
     "text": [
      "E:\\learningsoft\\anadonda\\lib\\site-packages\\ipykernel_launcher.py:32: DeprecationWarning: Call to deprecated `__getitem__` (Method will be removed in 4.0.0, use self.wv.__getitem__() instead).\n",
      "E:\\learningsoft\\anadonda\\lib\\site-packages\\ipykernel_launcher.py:39: DeprecationWarning: Call to deprecated `__getitem__` (Method will be removed in 4.0.0, use self.wv.__getitem__() instead).\n"
     ]
    }
   ],
   "source": [
    "\"\"\"\n",
    "方法一(Baseline)：Simple AvgWV Similarity\n",
    "对所有词语，进行词向量平均，然后计算cos相似度。\n",
    "注：词典中没有的词，经过jieba分词后，再录入。\n",
    "\"\"\"\n",
    "\n",
    "def AvgWvSim(dic1,dic2):\n",
    "    words1 = []\n",
    "    words2 = []\n",
    "    for li in dic1.values():\n",
    "        words1 += li\n",
    "    for li in dic2.values():\n",
    "        words2 += li\n",
    "        \n",
    "    wv1 = Wordlist_Wv(words1)\n",
    "    wv2 = Wordlist_Wv(words2)\n",
    "\n",
    "    return cosine_similarity(wv1,wv2)[0][0]\n",
    "\n",
    "print(\"JD1与CV1的匹配得分：\",AvgWvSim(JD1_dic,CV1_dic))\n",
    "print(\"JD1与CV2的匹配得分：\",AvgWvSim(JD1_dic,CV2_dic))\n",
    "print(\"JD1与CV3的匹配得分：\",AvgWvSim(JD1_dic,CV3_dic))\n",
    "print(\"JD1与CV4的匹配得分：\",AvgWvSim(JD1_dic,CV4_dic))"
   ]
  },
  {
   "cell_type": "code",
   "execution_count": 107,
   "metadata": {},
   "outputs": [
    {
     "name": "stdout",
     "output_type": "stream",
     "text": [
      "JD1与CV1的匹配得分： 0.8068824189903465\n",
      "JD1与CV2的匹配得分： 0.8226672324602106\n",
      "JD1与CV3的匹配得分： 0.8457817366796778\n",
      "JD1与CV4的匹配得分： 0.5937559241738408\n"
     ]
    },
    {
     "name": "stderr",
     "output_type": "stream",
     "text": [
      "E:\\learningsoft\\anadonda\\lib\\site-packages\\ipykernel_launcher.py:32: DeprecationWarning: Call to deprecated `__getitem__` (Method will be removed in 4.0.0, use self.wv.__getitem__() instead).\n",
      "E:\\learningsoft\\anadonda\\lib\\site-packages\\ipykernel_launcher.py:39: DeprecationWarning: Call to deprecated `__getitem__` (Method will be removed in 4.0.0, use self.wv.__getitem__() instead).\n"
     ]
    }
   ],
   "source": [
    "\"\"\"\n",
    "方法二：Focused-AvgW2V\n",
    "对应的标签进行相似度计算，然后再按照对不同的标签的权重进行加权平均，得到总分。\n",
    "（相当于添加了sentence-level attention）\n",
    "\"\"\"\n",
    "tag_weights = {'行业':0.1,'学历':0.25,'技能':0.3,'业务':0.35}\n",
    "def FocusedAvgWvSim(dic1,dic2,tag_weights=tag_weights,weights1_desc=False,weights2_desc=False):\n",
    "    total_score = 0\n",
    "    for cate in dic1:\n",
    "        wv1 = Wordlist_Wv(dic1[cate],weights_descend=weights1_desc)\n",
    "        wv2 = Wordlist_Wv(dic2[cate],weights_descend=weights2_desc)\n",
    "        score = cosine_similarity(wv1,wv2)\n",
    "        weighted_score = score*tag_weights[cate]\n",
    "        total_score += weighted_score\n",
    "    return total_score\n",
    "\n",
    "print(\"JD1与CV1的匹配得分：\",FocusedAvgWvSim(JD1_dic,CV1_dic)[0][0])\n",
    "print(\"JD1与CV2的匹配得分：\",FocusedAvgWvSim(JD1_dic,CV2_dic)[0][0])\n",
    "print(\"JD1与CV3的匹配得分：\",FocusedAvgWvSim(JD1_dic,CV3_dic)[0][0])\n",
    "print(\"JD1与CV4的匹配得分：\",FocusedAvgWvSim(JD1_dic,CV4_dic)[0][0])"
   ]
  },
  {
   "cell_type": "code",
   "execution_count": 110,
   "metadata": {},
   "outputs": [
    {
     "name": "stdout",
     "output_type": "stream",
     "text": [
      "JD1与CV1的匹配得分： 0.8031052619376688\n",
      "JD1与CV2的匹配得分： 0.7864576685133724\n",
      "JD1与CV3的匹配得分： 0.8489762216010368\n",
      "JD1与CV4的匹配得分： 0.5748876829998409\n"
     ]
    },
    {
     "name": "stderr",
     "output_type": "stream",
     "text": [
      "E:\\learningsoft\\anadonda\\lib\\site-packages\\ipykernel_launcher.py:32: DeprecationWarning: Call to deprecated `__getitem__` (Method will be removed in 4.0.0, use self.wv.__getitem__() instead).\n",
      "E:\\learningsoft\\anadonda\\lib\\site-packages\\ipykernel_launcher.py:39: DeprecationWarning: Call to deprecated `__getitem__` (Method will be removed in 4.0.0, use self.wv.__getitem__() instead).\n"
     ]
    }
   ],
   "source": [
    "\"\"\"\n",
    "方法三：\n",
    "在二的基础上，添加对不同词的重要性。默认JD中，同一条中，越靠前的词重要性越强；CV则各词权重相同。\n",
    "（相当于添加了word-level attention）\n",
    "\"\"\"\n",
    "\n",
    "print(\"JD1与CV1的匹配得分：\",FocusedAvgWvSim(JD1_dic,CV1_dic,weights1_desc=True)[0][0])\n",
    "print(\"JD1与CV2的匹配得分：\",FocusedAvgWvSim(JD1_dic,CV2_dic,weights1_desc=True)[0][0])\n",
    "print(\"JD1与CV3的匹配得分：\",FocusedAvgWvSim(JD1_dic,CV3_dic,weights1_desc=True)[0][0])\n",
    "print(\"JD1与CV4的匹配得分：\",FocusedAvgWvSim(JD1_dic,CV4_dic,weights1_desc=True)[0][0])"
   ]
  },
  {
   "cell_type": "code",
   "execution_count": 112,
   "metadata": {},
   "outputs": [
    {
     "name": "stdout",
     "output_type": "stream",
     "text": [
      "JD1与CV1的匹配得分： 0.8125211012398271\n",
      "JD1与CV2的匹配得分： 0.7958735078155307\n",
      "JD1与CV3的匹配得分： 0.7820377095558115\n",
      "JD1与CV4的匹配得分： 0.48981383108376303\n"
     ]
    },
    {
     "name": "stderr",
     "output_type": "stream",
     "text": [
      "E:\\learningsoft\\anadonda\\lib\\site-packages\\ipykernel_launcher.py:32: DeprecationWarning: Call to deprecated `__getitem__` (Method will be removed in 4.0.0, use self.wv.__getitem__() instead).\n",
      "E:\\learningsoft\\anadonda\\lib\\site-packages\\ipykernel_launcher.py:39: DeprecationWarning: Call to deprecated `__getitem__` (Method will be removed in 4.0.0, use self.wv.__getitem__() instead).\n"
     ]
    }
   ],
   "source": [
    "tag_weights = {'行业':0.25,'学历':0.1,'技能':0.3,'业务':0.35}\n",
    "print(\"JD1与CV1的匹配得分：\",FocusedAvgWvSim(JD1_dic,CV1_dic,tag_weights=tag_weights,weights1_desc=True)[0][0])\n",
    "print(\"JD1与CV2的匹配得分：\",FocusedAvgWvSim(JD1_dic,CV2_dic,tag_weights=tag_weights,weights1_desc=True)[0][0])\n",
    "print(\"JD1与CV3的匹配得分：\",FocusedAvgWvSim(JD1_dic,CV3_dic,tag_weights=tag_weights,weights1_desc=True)[0][0])\n",
    "print(\"JD1与CV4的匹配得分：\",FocusedAvgWvSim(JD1_dic,CV4_dic,tag_weights=tag_weights,weights1_desc=True)[0][0])"
   ]
  },
  {
   "cell_type": "code",
   "execution_count": null,
   "metadata": {},
   "outputs": [],
   "source": []
  }
 ],
 "metadata": {
  "kernelspec": {
   "display_name": "Python 3",
   "language": "python",
   "name": "python3"
  },
  "language_info": {
   "codemirror_mode": {
    "name": "ipython",
    "version": 3
   },
   "file_extension": ".py",
   "mimetype": "text/x-python",
   "name": "python",
   "nbconvert_exporter": "python",
   "pygments_lexer": "ipython3",
   "version": "3.6.3"
  }
 },
 "nbformat": 4,
 "nbformat_minor": 2
}
